{
 "cells": [
  {
   "cell_type": "code",
   "execution_count": null,
   "id": "587ec065",
   "metadata": {
    "execution": {
     "iopub.execute_input": "2024-12-16T17:50:08.659676Z",
     "iopub.status.busy": "2024-12-16T17:50:08.659280Z",
     "iopub.status.idle": "2024-12-16T17:50:50.230843Z",
     "shell.execute_reply": "2024-12-16T17:50:50.229683Z"
    },
    "papermill": {
     "duration": 41.578458,
     "end_time": "2024-12-16T17:50:50.233752",
     "exception": false,
     "start_time": "2024-12-16T17:50:08.655294",
     "status": "completed"
    },
    "tags": []
   },
   "outputs": [],
   "source": [
    "!pip install git+https://github.com/Farama-Foundation/MAgent2\n",
    "!git clone https://github.com/giangbang/RL-final-project-AIT-3007.git"
   ]
  },
  {
   "cell_type": "code",
   "execution_count": null,
   "id": "057ca658",
   "metadata": {
    "_cell_guid": "b1076dfc-b9ad-4769-8c92-a6c4dae69d19",
    "_uuid": "8f2839f25d086af736a60e9eeb907d3b93b6e0e5",
    "execution": {
     "iopub.execute_input": "2024-12-16T17:50:50.245743Z",
     "iopub.status.busy": "2024-12-16T17:50:50.245346Z",
     "iopub.status.idle": "2024-12-16T17:50:53.881116Z",
     "shell.execute_reply": "2024-12-16T17:50:53.879870Z"
    },
    "papermill": {
     "duration": 3.644935,
     "end_time": "2024-12-16T17:50:53.883891",
     "exception": false,
     "start_time": "2024-12-16T17:50:50.238956",
     "status": "completed"
    },
    "tags": []
   },
   "outputs": [],
   "source": [
    "import torch\n",
    "import torch.nn as nn\n",
    "import numpy as np\n",
    "import random\n",
    "import os\n",
    "from magent2.environments import battle_v4\n",
    "import sys\n",
    "sys.path.append('RL-final-project-AIT-3007/')\n",
    "import final_torch_model\n",
    "import torch_model\n",
    "\n",
    "class MyQNetwork(nn.Module):\n",
    "    def __init__(self, observation_shape, action_shape):\n",
    "        super().__init__()\n",
    "        self.cnn = nn.Sequential(\n",
    "            nn.Conv2d(observation_shape[-1], 13, kernel_size=3, padding=1, stride=1),\n",
    "            nn.ReLU(),\n",
    "            nn.Conv2d(13, 13, kernel_size=3, padding=1, stride=1),\n",
    "            nn.ReLU(),\n",
    "            nn.Conv2d(13, 13, kernel_size=3),\n",
    "            nn.ReLU(),\n",
    "        )\n",
    "        \n",
    "        dummy_input = torch.randn(observation_shape).permute(2, 0, 1)\n",
    "        dummy_output = self.cnn(dummy_input)\n",
    "        flatten_dim = dummy_output.view(-1).shape[0]\n",
    "        \n",
    "        self.fc = nn.Sequential(\n",
    "            nn.Linear(flatten_dim, 256),\n",
    "            nn.ReLU(),\n",
    "            nn.Linear(256, 128),\n",
    "            nn.ReLU(),\n",
    "            nn.Linear(128, action_shape)\n",
    "        )\n",
    "\n",
    "    def forward(self, x):\n",
    "        assert len(x.shape) >= 3, \"only support magent input observation\"\n",
    "        out = self.cnn(x)\n",
    "        \n",
    "        if len(x.shape) == 3:\n",
    "            batchsize = 1\n",
    "            \n",
    "        else:\n",
    "            batchsize = x.shape[0]\n",
    "            \n",
    "        out = out.reshape(batchsize, -1)\n",
    "        \n",
    "        return self.fc(out)\n"
   ]
  },
  {
   "cell_type": "code",
   "execution_count": 3,
   "id": "1b79be17",
   "metadata": {
    "execution": {
     "iopub.execute_input": "2024-12-16T17:50:53.897047Z",
     "iopub.status.busy": "2024-12-16T17:50:53.896492Z",
     "iopub.status.idle": "2024-12-16T17:54:34.281270Z",
     "shell.execute_reply": "2024-12-16T17:54:34.280114Z"
    },
    "papermill": {
     "duration": 220.405389,
     "end_time": "2024-12-16T17:54:34.294805",
     "exception": false,
     "start_time": "2024-12-16T17:50:53.889416",
     "status": "completed"
    },
    "tags": []
   },
   "outputs": [
    {
     "name": "stderr",
     "output_type": "stream",
     "text": [
      "/opt/conda/lib/python3.10/site-packages/pettingzoo/utils/wrappers/base.py:72: UserWarning: The `action_spaces` dictionary is deprecated. Use the `action_space` function instead.\n",
      "  warnings.warn(\n"
     ]
    },
    {
     "name": "stdout",
     "output_type": "stream",
     "text": [
      "====================\n",
      "Eval with red final policy\n"
     ]
    },
    {
     "name": "stderr",
     "output_type": "stream",
     "text": [
      "100%|██████████| 30/30 [01:34<00:00,  3.15s/it]\n"
     ]
    },
    {
     "name": "stdout",
     "output_type": "stream",
     "text": [
      "{'winrate_red': 0.0, 'winrate_blue': 1.0, 'average_rewards_red': 1.5334773535778892, 'average_rewards_blue': 4.866333302184402}\n",
      "====================\n",
      "Eval with red policy\n"
     ]
    },
    {
     "name": "stderr",
     "output_type": "stream",
     "text": [
      "100%|██████████| 30/30 [01:06<00:00,  2.20s/it]\n"
     ]
    },
    {
     "name": "stdout",
     "output_type": "stream",
     "text": [
      "{'winrate_red': 0.0, 'winrate_blue': 1.0, 'average_rewards_red': 0.2403106967106063, 'average_rewards_blue': 4.983382684575707}\n",
      "====================\n",
      "Eval with random policy\n"
     ]
    },
    {
     "name": "stderr",
     "output_type": "stream",
     "text": [
      "100%|██████████| 30/30 [00:59<00:00,  1.98s/it]"
     ]
    },
    {
     "name": "stdout",
     "output_type": "stream",
     "text": [
      "{'winrate_red': 0.0, 'winrate_blue': 1.0, 'average_rewards_red': -0.9832119690580102, 'average_rewards_blue': 4.9292242474007}\n",
      "====================\n"
     ]
    },
    {
     "name": "stderr",
     "output_type": "stream",
     "text": [
      "\n"
     ]
    }
   ],
   "source": [
    "# from torch_model import QNetwork\n",
    "try:\n",
    "    from tqdm import tqdm\n",
    "except ImportError:\n",
    "    tqdm = lambda x, *args, **kwargs: x  # Fallback: tqdm becomes a no-op\n",
    "    \n",
    "def eval():\n",
    "    max_cycles = 300\n",
    "    env = battle_v4.env(map_size=45, max_cycles=max_cycles)\n",
    "    device = \"cuda\" if torch.cuda.is_available() else \"cpu\"\n",
    "\n",
    "    ### Load my network\n",
    "    MyNetwork = MyQNetwork(observation_shape=env.observation_space(\"red_0\").shape, action_shape=env.action_space(\"red_0\").n)\n",
    "    MyNetwork.load_state_dict(\n",
    "        torch.load(\n",
    "            \"final_blue.pt\", \n",
    "            weights_only=True, \n",
    "            map_location=\"cpu\"\n",
    "        )\n",
    "    )\n",
    "    MyNetwork.to(device)\n",
    "\n",
    "    ### Load red_final model\n",
    "    red_final_network = final_torch_model.QNetwork(\n",
    "        env.observation_space(\"red_0\").shape, env.action_space(\"red_0\").n\n",
    "    )\n",
    "    red_final_network.load_state_dict(\n",
    "        torch.load(\n",
    "            \"RL-final-project-AIT-3007/red_final.pt\", \n",
    "            weights_only=True, \n",
    "            map_location=\"cpu\"\n",
    "        )\n",
    "    )\n",
    "    red_final_network = red_final_network.to(device)\n",
    "\n",
    "    ### Load red model\n",
    "    red_network = torch_model.QNetwork(\n",
    "        env.observation_space(\"red_0\").shape, env.action_space(\"red_0\").n\n",
    "    )\n",
    "    red_network.load_state_dict(\n",
    "        torch.load(\n",
    "            \"RL-final-project-AIT-3007/red.pt\",\n",
    "            weights_only=True, \n",
    "            map_location=\"cpu\"\n",
    "        )\n",
    "    )\n",
    "    red_network = red_network.to(device)\n",
    "\n",
    "    def random_policy(env, agent, obs):\n",
    "        return env.action_space(agent).sample()\n",
    "        \n",
    "    def red_final_policy(env, agent, obs):\n",
    "        observation = (\n",
    "            torch.Tensor(obs).float().permute([2, 0, 1]).unsqueeze(0).to(device)\n",
    "        )\n",
    "        red_final_network.eval()\n",
    "        with torch.inference_mode():\n",
    "            q_values = red_final_network(observation)\n",
    "        return torch.argmax(q_values, dim=1).cpu().numpy()[0]\n",
    "        \n",
    "    def red_policy(env, agent, obs):\n",
    "        observation = (\n",
    "            torch.Tensor(obs).float().permute([2, 0, 1]).unsqueeze(0).to(device)\n",
    "        )\n",
    "        red_network.eval()\n",
    "        with torch.inference_mode():\n",
    "            q_values = red_network(observation)\n",
    "        return torch.argmax(q_values, dim=1).cpu().numpy()[0]\n",
    "\n",
    "    def my_policy(env, agent, obs):\n",
    "        observation = (\n",
    "            torch.Tensor(obs).float().permute([2, 0, 1]).unsqueeze(0).to(device)\n",
    "        )\n",
    "        MyNetwork.eval()\n",
    "        with torch.inference_mode():\n",
    "            q_values = MyNetwork(observation)\n",
    "        return torch.argmax(q_values, dim=1).cpu().numpy()[0]\n",
    "\n",
    "    # def policy()\n",
    "\n",
    "    def run_eval(env, red_policy, blue_policy, n_episode: int = 100):\n",
    "        red_win, blue_win = [], []\n",
    "        red_tot_rw, blue_tot_rw = [], []\n",
    "        n_agent_each_team = len(env.env.action_spaces) // 2\n",
    "\n",
    "        for _ in tqdm(range(n_episode)):\n",
    "            env.reset()\n",
    "            n_kill = {\"red\": 0, \"blue\": 0}\n",
    "            red_reward, blue_reward = 0, 0\n",
    "\n",
    "            for agent in env.agent_iter():\n",
    "                observation, reward, termination, truncation, info = env.last()\n",
    "                agent_team = agent.split(\"_\")[0]\n",
    "\n",
    "                n_kill[agent_team] += (\n",
    "                    reward > 4.5\n",
    "                )  # This assumes default reward settups\n",
    "                if agent_team == \"red\":\n",
    "                    red_reward += reward\n",
    "                else:\n",
    "                    blue_reward += reward\n",
    "\n",
    "                if termination or truncation:\n",
    "                    action = None  # this agent has died\n",
    "                else:\n",
    "                    if agent_team == \"red\":\n",
    "                        action = red_policy(env, agent, observation)\n",
    "                    else:\n",
    "                        action = blue_policy(env, agent, observation)\n",
    "\n",
    "                env.step(action)\n",
    "\n",
    "            who_wins = \"red\" if n_kill[\"red\"] >= n_kill[\"blue\"] + 5 else \"draw\"\n",
    "            who_wins = \"blue\" if n_kill[\"red\"] + 5 <= n_kill[\"blue\"] else who_wins\n",
    "            red_win.append(who_wins == \"red\")\n",
    "            blue_win.append(who_wins == \"blue\")\n",
    "\n",
    "            red_tot_rw.append(red_reward / n_agent_each_team)\n",
    "            blue_tot_rw.append(blue_reward / n_agent_each_team)\n",
    "\n",
    "        return {\n",
    "            \"winrate_red\": np.mean(red_win),\n",
    "            \"winrate_blue\": np.mean(blue_win),\n",
    "            \"average_rewards_red\": np.mean(red_tot_rw),\n",
    "            \"average_rewards_blue\": np.mean(blue_tot_rw),\n",
    "        }\n",
    "\n",
    "    print(\"=\" * 20)\n",
    "    print(\"Eval with red final policy\")\n",
    "    print(\n",
    "        run_eval(\n",
    "            env=env, red_policy=red_final_policy, blue_policy=my_policy, n_episode=30\n",
    "        )\n",
    "    )\n",
    "\n",
    "    print(\"=\" * 20)\n",
    "    print(\"Eval with red policy\")\n",
    "    print(\n",
    "        run_eval(\n",
    "            env=env, red_policy=red_policy, blue_policy=my_policy, n_episode=30\n",
    "        )\n",
    "    )\n",
    "\n",
    "    print(\"=\" * 20)\n",
    "    print(\"Eval with random policy\")\n",
    "    print(\n",
    "        run_eval(\n",
    "            env=env, red_policy=random_policy, blue_policy=my_policy, n_episode=30\n",
    "        )\n",
    "    )\n",
    "    \n",
    "    print(\"=\" * 20)\n",
    "\n",
    "if __name__ == \"__main__\":\n",
    "    eval()"
   ]
  }
 ],
 "metadata": {
  "kaggle": {
   "accelerator": "none",
   "dataSources": [
    {
     "sourceId": 213386482,
     "sourceType": "kernelVersion"
    }
   ],
   "dockerImageVersionId": 30804,
   "isGpuEnabled": false,
   "isInternetEnabled": true,
   "language": "python",
   "sourceType": "notebook"
  },
  "kernelspec": {
   "display_name": "rl-env2",
   "language": "python",
   "name": "python3"
  },
  "language_info": {
   "codemirror_mode": {
    "name": "ipython",
    "version": 3
   },
   "file_extension": ".py",
   "mimetype": "text/x-python",
   "name": "python",
   "nbconvert_exporter": "python",
   "pygments_lexer": "ipython3",
   "version": "3.10.15"
  },
  "papermill": {
   "default_parameters": {},
   "duration": 269.176924,
   "end_time": "2024-12-16T17:54:35.227499",
   "environment_variables": {},
   "exception": null,
   "input_path": "__notebook__.ipynb",
   "output_path": "__notebook__.ipynb",
   "parameters": {},
   "start_time": "2024-12-16T17:50:06.050575",
   "version": "2.6.0"
  }
 },
 "nbformat": 4,
 "nbformat_minor": 5
}
