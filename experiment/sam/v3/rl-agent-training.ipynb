{
 "cells": [
  {
   "cell_type": "code",
   "execution_count": 1,
   "id": "0ddfd2c1",
   "metadata": {
    "_cell_guid": "b1076dfc-b9ad-4769-8c92-a6c4dae69d19",
    "_uuid": "8f2839f25d086af736a60e9eeb907d3b93b6e0e5",
    "execution": {
     "iopub.execute_input": "2024-12-13T04:53:05.254641Z",
     "iopub.status.busy": "2024-12-13T04:53:05.254350Z",
     "iopub.status.idle": "2024-12-13T04:53:05.944393Z",
     "shell.execute_reply": "2024-12-13T04:53:05.943520Z"
    },
    "papermill": {
     "duration": 0.698395,
     "end_time": "2024-12-13T04:53:05.946362",
     "exception": false,
     "start_time": "2024-12-13T04:53:05.247967",
     "status": "completed"
    },
    "tags": []
   },
   "outputs": [
    {
     "name": "stdout",
     "output_type": "stream",
     "text": [
      "/kaggle/input/\n"
     ]
    }
   ],
   "source": [
    "# This Python 3 environment comes with many helpful analytics libraries installed\n",
    "# It is defined by the kaggle/python Docker image: https://github.com/kaggle/docker-python\n",
    "# For example, here's several helpful packages to load\n",
    "\n",
    "import numpy as np # linear algebra\n",
    "import pandas as pd # data processing, CSV file I/O (e.g. pd.read_csv)\n",
    "\n",
    "# Input data files are available in the read-only \"../input/\" directory\n",
    "# For example, running this (by clicking run or pressing Shift+Enter) will list all files under the input directory\n",
    "\n",
    "import os\n",
    "for dirname, _, filenames in os.walk('/kaggle/input'):\n",
    "    print(os.path.join(dirname, ''))\n",
    "\n",
    "# You can write up to 20GB to the current directory (/kaggle/working/) that gets preserved as output when you create a version using \"Save & Run All\" \n",
    "# You can also write temporary files to /kaggle/temp/, but they won't be saved outside of the current session"
   ]
  },
  {
   "cell_type": "code",
   "execution_count": 2,
   "id": "8d6b9f14",
   "metadata": {
    "execution": {
     "iopub.execute_input": "2024-12-13T04:53:05.958456Z",
     "iopub.status.busy": "2024-12-13T04:53:05.958105Z",
     "iopub.status.idle": "2024-12-13T04:53:40.187360Z",
     "shell.execute_reply": "2024-12-13T04:53:40.186314Z"
    },
    "papermill": {
     "duration": 34.237883,
     "end_time": "2024-12-13T04:53:40.189372",
     "exception": false,
     "start_time": "2024-12-13T04:53:05.951489",
     "status": "completed"
    },
    "scrolled": true,
    "tags": []
   },
   "outputs": [
    {
     "name": "stdout",
     "output_type": "stream",
     "text": [
      "Collecting git+https://github.com/Farama-Foundation/MAgent2\r\n",
      "  Cloning https://github.com/Farama-Foundation/MAgent2 to /tmp/pip-req-build-w9f0fczs\r\n",
      "  Running command git clone --filter=blob:none --quiet https://github.com/Farama-Foundation/MAgent2 /tmp/pip-req-build-w9f0fczs\r\n",
      "  Resolved https://github.com/Farama-Foundation/MAgent2 to commit b2ddd49445368cf85d4d4e1edcddae2e28aa1406\r\n",
      "  Installing build dependencies ... \u001b[?25l-\b \b\\\b \b|\b \b/\b \b-\b \b\\\b \b|\b \bdone\r\n",
      "\u001b[?25h  Getting requirements to build wheel ... \u001b[?25l-\b \bdone\r\n",
      "\u001b[?25h  Preparing metadata (pyproject.toml) ... \u001b[?25l-\b \bdone\r\n",
      "\u001b[?25hRequirement already satisfied: numpy<2.0,>=1.21.0 in /opt/conda/lib/python3.10/site-packages (from magent2==0.3.3) (1.26.4)\r\n",
      "Collecting pygame>=2.1.0 (from magent2==0.3.3)\r\n",
      "  Downloading pygame-2.6.1-cp310-cp310-manylinux_2_17_x86_64.manylinux2014_x86_64.whl.metadata (12 kB)\r\n",
      "Requirement already satisfied: pettingzoo>=1.23.1 in /opt/conda/lib/python3.10/site-packages (from magent2==0.3.3) (1.24.0)\r\n",
      "Requirement already satisfied: gymnasium>=0.28.0 in /opt/conda/lib/python3.10/site-packages (from pettingzoo>=1.23.1->magent2==0.3.3) (0.29.0)\r\n",
      "Requirement already satisfied: cloudpickle>=1.2.0 in /opt/conda/lib/python3.10/site-packages (from gymnasium>=0.28.0->pettingzoo>=1.23.1->magent2==0.3.3) (3.0.0)\r\n",
      "Requirement already satisfied: typing-extensions>=4.3.0 in /opt/conda/lib/python3.10/site-packages (from gymnasium>=0.28.0->pettingzoo>=1.23.1->magent2==0.3.3) (4.12.2)\r\n",
      "Requirement already satisfied: farama-notifications>=0.0.1 in /opt/conda/lib/python3.10/site-packages (from gymnasium>=0.28.0->pettingzoo>=1.23.1->magent2==0.3.3) (0.0.4)\r\n",
      "Downloading pygame-2.6.1-cp310-cp310-manylinux_2_17_x86_64.manylinux2014_x86_64.whl (14.0 MB)\r\n",
      "\u001b[2K   \u001b[90m━━━━━━━━━━━━━━━━━━━━━━━━━━━━━━━━━━━━━━━━\u001b[0m \u001b[32m14.0/14.0 MB\u001b[0m \u001b[31m99.2 MB/s\u001b[0m eta \u001b[36m0:00:00\u001b[0m\r\n",
      "\u001b[?25hBuilding wheels for collected packages: magent2\r\n",
      "  Building wheel for magent2 (pyproject.toml) ... \u001b[?25l-\b \b\\\b \b|\b \b/\b \b-\b \b\\\b \b|\b \b/\b \b-\b \b\\\b \b|\b \b/\b \b-\b \b\\\b \b|\b \b/\b \b-\b \b\\\b \b|\b \b/\b \b-\b \b\\\b \b|\b \b/\b \b-\b \b\\\b \b|\b \b/\b \b-\b \b\\\b \b|\b \bdone\r\n",
      "\u001b[?25h  Created wheel for magent2: filename=magent2-0.3.3-cp310-cp310-linux_x86_64.whl size=1696141 sha256=5cd5416bda0dba00f4818aca7b484af1d9560a0aff54262782fdb03b4e2cff49\r\n",
      "  Stored in directory: /tmp/pip-ephem-wheel-cache-h90npp48/wheels/e4/8e/bf/51a30bc4038546e23b81c9fb513fe6a8fd916e5a9c5f4291d5\r\n",
      "Successfully built magent2\r\n",
      "Installing collected packages: pygame, magent2\r\n",
      "Successfully installed magent2-0.3.3 pygame-2.6.1\r\n",
      "Cloning into 'BTL-RL'...\r\n",
      "remote: Enumerating objects: 82, done.\u001b[K\r\n",
      "remote: Counting objects: 100% (82/82), done.\u001b[K\r\n",
      "remote: Compressing objects: 100% (62/62), done.\u001b[K\r\n",
      "remote: Total 82 (delta 25), reused 60 (delta 14), pack-reused 0 (from 0)\u001b[K\r\n",
      "Receiving objects: 100% (82/82), 1.13 MiB | 19.21 MiB/s, done.\r\n",
      "Resolving deltas: 100% (25/25), done.\r\n"
     ]
    }
   ],
   "source": [
    "!pip install git+https://github.com/Farama-Foundation/MAgent2\n",
    "!git clone https://github.com/sambt22022517/BTL-RL.git"
   ]
  },
  {
   "cell_type": "markdown",
   "id": "4f288f08",
   "metadata": {
    "papermill": {
     "duration": 0.008429,
     "end_time": "2024-12-13T04:53:40.205642",
     "exception": false,
     "start_time": "2024-12-13T04:53:40.197213",
     "status": "completed"
    },
    "tags": []
   },
   "source": [
    "## Import module"
   ]
  },
  {
   "cell_type": "code",
   "execution_count": 3,
   "id": "87f48e84",
   "metadata": {
    "execution": {
     "iopub.execute_input": "2024-12-13T04:53:40.227901Z",
     "iopub.status.busy": "2024-12-13T04:53:40.226718Z",
     "iopub.status.idle": "2024-12-13T04:53:44.966037Z",
     "shell.execute_reply": "2024-12-13T04:53:44.965103Z"
    },
    "papermill": {
     "duration": 4.752064,
     "end_time": "2024-12-13T04:53:44.968046",
     "exception": false,
     "start_time": "2024-12-13T04:53:40.215982",
     "status": "completed"
    },
    "tags": []
   },
   "outputs": [],
   "source": [
    "import torch\n",
    "import torch.nn as nn\n",
    "from torch.utils.data import Dataset, DataLoader\n",
    "import torch.nn.functional as F\n",
    "\n",
    "from magent2.environments import battle_v4\n",
    "import cv2\n",
    "from collections import deque\n",
    "import time\n",
    "import random\n",
    "import seaborn as sns\n",
    "from matplotlib import pyplot as plt\n",
    "from IPython.display import FileLink\n",
    "import warnings\n",
    "warnings.filterwarnings('ignore')"
   ]
  },
  {
   "cell_type": "markdown",
   "id": "ace1fe95",
   "metadata": {
    "papermill": {
     "duration": 0.00718,
     "end_time": "2024-12-13T04:53:44.982962",
     "exception": false,
     "start_time": "2024-12-13T04:53:44.975782",
     "status": "completed"
    },
    "tags": []
   },
   "source": [
    "## Config"
   ]
  },
  {
   "cell_type": "code",
   "execution_count": 4,
   "id": "4d104344",
   "metadata": {
    "execution": {
     "iopub.execute_input": "2024-12-13T04:53:44.998831Z",
     "iopub.status.busy": "2024-12-13T04:53:44.998415Z",
     "iopub.status.idle": "2024-12-13T04:53:45.087927Z",
     "shell.execute_reply": "2024-12-13T04:53:45.087286Z"
    },
    "papermill": {
     "duration": 0.09949,
     "end_time": "2024-12-13T04:53:45.089690",
     "exception": false,
     "start_time": "2024-12-13T04:53:44.990200",
     "status": "completed"
    },
    "tags": []
   },
   "outputs": [],
   "source": [
    "# Global config\n",
    "SEED = 42\n",
    "env = battle_v4.env(map_size=45, render_mode=\"rgb_array\")\n",
    "observation_shape = env.observation_space(\"red_0\").shape\n",
    "action_shape = env.action_space(\"red_0\").n\n",
    "episodes = 30\n",
    "inline_epochs = 5\n",
    "exten_epochs = 10\n",
    "batch_size = 2**10\n",
    "device = 'cuda' if torch.cuda.is_available() else 'cpu'\n",
    "\n",
    "# Experience\n",
    "EX = 21\n",
    "\n",
    "# Pretrain Model\n",
    "pretrain_model_params = {\n",
    "    'observation_shape': observation_shape,\n",
    "    'action_shape': action_shape,\n",
    "    'device': device,\n",
    "}\n",
    "pretrain_params = '/kaggle/working/BTL-RL/experiment/sam/v1/v1.pth'\n",
    "# pretrain_params = '/kaggle/working/BTL-RL/result/v0/red.pt'\n",
    "\n",
    "# Model\n",
    "model_params = {\n",
    "    'observation_shape': observation_shape,\n",
    "    'action_shape': action_shape,\n",
    "    'device': device,\n",
    "}\n",
    "\n",
    "# Trainer\n",
    "optim_params = {\n",
    "    'lr': 1e-3,\n",
    "    'weight_decay': 0.0,\n",
    "}\n",
    "scheduler_params = {\n",
    "    'T_max': episodes + exten_epochs,\n",
    "    'eta_min': 1e-6,\n",
    "}\n",
    "trainer_params = {\n",
    "    'action_shape': action_shape,\n",
    "    'epsilon': 1.0,\n",
    "    'epsilon_min': 0.01,\n",
    "    'epsilon_beta': 0.97, \n",
    "    'weight_init': True,\n",
    "    'custom_weight_initializer': None,\n",
    "    'device': device,\n",
    "}\n",
    "\n",
    "# training\n",
    "train_func_params = {\n",
    "    'episodes': episodes,\n",
    "    'batch_size': batch_size,\n",
    "    'gamma': 0.9,\n",
    "    'env': env,\n",
    "    'inline_epochs': inline_epochs, \n",
    "    'exten_epochs': exten_epochs, \n",
    "    'eval_opponent_net': 'pretrain', \n",
    "    'update_tgt_net_frequence': 1,\n",
    "    'update_tgt_net_rate': 0.5,\n",
    "    'update_eva_net_frequence': 4, \n",
    "    'detect_best_model': False,\n",
    "    'save_at_end': True,\n",
    "    'save_only_network': True,\n",
    "    'save_name': f'{EX}-{episodes}-{batch_size}-bigger.pth',\n",
    "}\n",
    "\n",
    "# Memory\n",
    "memory_params = {\n",
    "    'maxlen': 162 * episodes,\n",
    "}\n",
    "small_memory_params = {\n",
    "    'maxlen': 162 * 1001,\n",
    "}\n",
    "\n",
    "# Eval Policy\n",
    "_eval_policy_params = {\n",
    "    'env': env,\n",
    "    'opponent_net': train_func_params['eval_opponent_net'],\n",
    "}"
   ]
  },
  {
   "cell_type": "code",
   "execution_count": 5,
   "id": "4d9a428e",
   "metadata": {
    "execution": {
     "iopub.execute_input": "2024-12-13T04:53:45.107009Z",
     "iopub.status.busy": "2024-12-13T04:53:45.106737Z",
     "iopub.status.idle": "2024-12-13T04:53:45.113687Z",
     "shell.execute_reply": "2024-12-13T04:53:45.113099Z"
    },
    "papermill": {
     "duration": 0.017621,
     "end_time": "2024-12-13T04:53:45.115352",
     "exception": false,
     "start_time": "2024-12-13T04:53:45.097731",
     "status": "completed"
    },
    "tags": []
   },
   "outputs": [],
   "source": [
    "np.random.seed(SEED)\n",
    "torch.manual_seed(SEED)\n",
    "torch.cuda.manual_seed(SEED)"
   ]
  },
  {
   "cell_type": "markdown",
   "id": "f87a6af0",
   "metadata": {
    "papermill": {
     "duration": 0.007106,
     "end_time": "2024-12-13T04:53:45.130175",
     "exception": false,
     "start_time": "2024-12-13T04:53:45.123069",
     "status": "completed"
    },
    "tags": []
   },
   "source": [
    "## Data"
   ]
  },
  {
   "cell_type": "code",
   "execution_count": 6,
   "id": "3c6b08d1",
   "metadata": {
    "execution": {
     "iopub.execute_input": "2024-12-13T04:53:45.146162Z",
     "iopub.status.busy": "2024-12-13T04:53:45.145931Z",
     "iopub.status.idle": "2024-12-13T04:53:45.157534Z",
     "shell.execute_reply": "2024-12-13T04:53:45.156830Z"
    },
    "papermill": {
     "duration": 0.021699,
     "end_time": "2024-12-13T04:53:45.159128",
     "exception": false,
     "start_time": "2024-12-13T04:53:45.137429",
     "status": "completed"
    },
    "tags": []
   },
   "outputs": [],
   "source": [
    "class Memory(Dataset):\n",
    "    def __init__(self, maxlen):\n",
    "        super().__init__()\n",
    "        self.maxlen = maxlen\n",
    "        self.step_memory = [deque(maxlen=self.maxlen)]\n",
    "    \n",
    "    def push(self, memory_idx, state, action, reward, next_state, done):\n",
    "        if memory_idx == len(self.step_memory):\n",
    "            self.step_memory.append(deque(maxlen=self.maxlen))\n",
    "        self.step_memory[memory_idx].append((state, action, reward, next_state, done))\n",
    "    \n",
    "    def sample(self, batch_size):\n",
    "        memory_idxes = np.empty(0, dtype=int)\n",
    "        while batch_size >= len(self.step_memory):\n",
    "            memory_idxes = np.concatenate((memory_idxes, np.arange(len(self.step_memory))), axis=0)\n",
    "            batch_size -= len(self.step_memory)\n",
    "        if batch_size > 0:\n",
    "            memory_idxes = np.concatenate((memory_idxes, np.random.choice(len(self.step_memory), batch_size, replace=False)), axis=0)\n",
    "\n",
    "        batch = []\n",
    "        for idx in memory_idxes:\n",
    "            data_idx = np.random.choice(len(self.step_memory[idx]), 1)[0]\n",
    "            batch.append(self.step_memory[idx][data_idx])\n",
    "            \n",
    "        state, action, reward, next_state, done = zip(*batch)\n",
    "        return (\n",
    "            torch.tensor(state),\n",
    "            torch.tensor(action),\n",
    "            torch.tensor(reward, dtype=torch.float),\n",
    "            torch.tensor(next_state),\n",
    "            torch.tensor(done, dtype=torch.float32),\n",
    "        )\n",
    "    \n",
    "    def __len__(self):\n",
    "        return sum([len(memory) for memory in self.step_memory])\n",
    "\n",
    "    def __getitem__(self, idx):\n",
    "        memory_idx = 0\n",
    "        while idx >= len(self.step_memory[memory_idx]):\n",
    "            idx -= len(self.step_memory[memory_idx])\n",
    "            memory_idx += 1\n",
    "        state, action, reward, next_state, done = self.step_memory[memory_idx][idx]\n",
    "        return (\n",
    "            torch.tensor(state),\n",
    "            torch.tensor(action),\n",
    "            torch.tensor(reward, dtype=torch.float),\n",
    "            torch.tensor(next_state),\n",
    "            torch.tensor(done, dtype=torch.float32),\n",
    "        )\n",
    "    \n",
    "    def getMemoryLength(self, idx):\n",
    "        return len(self.step_memory[idx])\n",
    "    \n",
    "    def getAllMemoryLength(self):\n",
    "        return [len(memory) for memory in self.step_memory]\n",
    "    \n",
    "    def getNumMemory(self):\n",
    "        return len(self.step_memory)\n",
    "\n",
    "class SmallMemory(Dataset):\n",
    "    def __init__(self, maxlen):\n",
    "        super().__init__()\n",
    "        self.maxlen = maxlen\n",
    "        self.step_memory = deque(maxlen=self.maxlen)\n",
    "    \n",
    "    def push(self, memory_idx, state, action, reward, next_state, done):\n",
    "        self.step_memory.append((state, action, reward, next_state, done))\n",
    "    \n",
    "    def __len__(self):\n",
    "        return len(self.step_memory)\n",
    "\n",
    "    def __getitem__(self, idx):\n",
    "        state, action, reward, next_state, done = self.step_memory[idx]\n",
    "        return (\n",
    "            torch.tensor(state),\n",
    "            torch.tensor(action),\n",
    "            torch.tensor(reward, dtype=torch.float),\n",
    "            torch.tensor(next_state),\n",
    "            torch.tensor(done, dtype=torch.float32),\n",
    "        )"
   ]
  },
  {
   "cell_type": "code",
   "execution_count": 7,
   "id": "24c3bce9",
   "metadata": {
    "execution": {
     "iopub.execute_input": "2024-12-13T04:53:45.178176Z",
     "iopub.status.busy": "2024-12-13T04:53:45.177903Z",
     "iopub.status.idle": "2024-12-13T04:53:45.181514Z",
     "shell.execute_reply": "2024-12-13T04:53:45.180739Z"
    },
    "papermill": {
     "duration": 0.01424,
     "end_time": "2024-12-13T04:53:45.183230",
     "exception": false,
     "start_time": "2024-12-13T04:53:45.168990",
     "status": "completed"
    },
    "tags": []
   },
   "outputs": [],
   "source": [
    "train_memory = Memory(**memory_params)\n",
    "small_memory = SmallMemory(**small_memory_params)"
   ]
  },
  {
   "cell_type": "markdown",
   "id": "f8e79eee",
   "metadata": {
    "papermill": {
     "duration": 0.007033,
     "end_time": "2024-12-13T04:53:45.197862",
     "exception": false,
     "start_time": "2024-12-13T04:53:45.190829",
     "status": "completed"
    },
    "tags": []
   },
   "source": [
    "## Pretrain Model"
   ]
  },
  {
   "cell_type": "code",
   "execution_count": 8,
   "id": "527be607",
   "metadata": {
    "execution": {
     "iopub.execute_input": "2024-12-13T04:53:45.213214Z",
     "iopub.status.busy": "2024-12-13T04:53:45.212955Z",
     "iopub.status.idle": "2024-12-13T04:53:45.219405Z",
     "shell.execute_reply": "2024-12-13T04:53:45.218637Z"
    },
    "papermill": {
     "duration": 0.015915,
     "end_time": "2024-12-13T04:53:45.220908",
     "exception": false,
     "start_time": "2024-12-13T04:53:45.204993",
     "status": "completed"
    },
    "tags": []
   },
   "outputs": [],
   "source": [
    "class PretrainQNetwork(nn.Module):\n",
    "    def __init__(self, observation_shape, action_shape, device='cpu'):\n",
    "        super().__init__()\n",
    "        self.observation_shape = observation_shape\n",
    "        self.action_shape = action_shape\n",
    "        self.device = device\n",
    "        \n",
    "        self.cnn = nn.Sequential(\n",
    "            nn.Conv2d(observation_shape[-1], observation_shape[-1], kernel_size=3),\n",
    "            nn.ReLU(),\n",
    "            nn.Conv2d(observation_shape[-1], observation_shape[-1], kernel_size=3),\n",
    "            nn.ReLU(),\n",
    "        )\n",
    "        \n",
    "        dummy_input = torch.randn(observation_shape).permute(2, 0, 1)\n",
    "        dummy_output = self.cnn(dummy_input)\n",
    "        flatten_dim = dummy_output.view(-1).shape[0]\n",
    "        self.network = nn.Sequential(\n",
    "            nn.Linear(flatten_dim, 120),\n",
    "            nn.ReLU(),\n",
    "            nn.Linear(120, 84),\n",
    "            nn.ReLU(),\n",
    "            nn.Linear(84, action_shape),\n",
    "        )\n",
    "\n",
    "    def forward(self, x):\n",
    "        x = x.to(self.device)\n",
    "        assert len(x.shape) >= 3, \"only support magent input observation\"\n",
    "        x = self.cnn(x)\n",
    "        if len(x.shape) == 3:\n",
    "            batchsize = 1\n",
    "        else:\n",
    "            batchsize = x.shape[0]\n",
    "        x = x.reshape(batchsize, -1)\n",
    "        return self.network(x)"
   ]
  },
  {
   "cell_type": "markdown",
   "id": "dbc9fb97",
   "metadata": {
    "papermill": {
     "duration": 0.007447,
     "end_time": "2024-12-13T04:53:45.236985",
     "exception": false,
     "start_time": "2024-12-13T04:53:45.229538",
     "status": "completed"
    },
    "tags": []
   },
   "source": [
    "## Model"
   ]
  },
  {
   "cell_type": "code",
   "execution_count": 9,
   "id": "40468b02",
   "metadata": {
    "execution": {
     "iopub.execute_input": "2024-12-13T04:53:45.252807Z",
     "iopub.status.busy": "2024-12-13T04:53:45.252539Z",
     "iopub.status.idle": "2024-12-13T04:53:45.261715Z",
     "shell.execute_reply": "2024-12-13T04:53:45.260938Z"
    },
    "papermill": {
     "duration": 0.018988,
     "end_time": "2024-12-13T04:53:45.263313",
     "exception": false,
     "start_time": "2024-12-13T04:53:45.244325",
     "status": "completed"
    },
    "tags": []
   },
   "outputs": [],
   "source": [
    "class ConvResidual(nn.Module):\n",
    "    def __init__(self, channels, device='cpu'):\n",
    "        super().__init__()\n",
    "        self.channels = channels\n",
    "        self.device = device\n",
    "\n",
    "        self.model = nn.Sequential(\n",
    "            nn.Conv2d(self.channels, self.channels, kernel_size=3, padding=1),\n",
    "            nn.BatchNorm2d(self.channels),\n",
    "            nn.ReLU(),\n",
    "            nn.Conv2d(self.channels, self.channels, kernel_size=3, padding=1)\n",
    "        ).to(self.device)\n",
    "\n",
    "    def forward(self, x):\n",
    "        x = x.to(self.device)\n",
    "        model_result = self.model(x)\n",
    "        return x + model_result\n",
    "\n",
    "\n",
    "class LinearResidual(nn.Module):\n",
    "    def __init__(self, size, device='cpu'):\n",
    "        super().__init__()\n",
    "        self.size = size\n",
    "        self.device = device\n",
    "\n",
    "        self.model = nn.Sequential(\n",
    "            nn.Linear(self.size, self.size),\n",
    "            nn.ReLU(),\n",
    "            nn.Linear(self.size, self.size)\n",
    "        ).to(self.device)\n",
    "\n",
    "    def forward(self, x):\n",
    "        x = x.to(self.device)\n",
    "        model_result = self.model(x)\n",
    "        return x + model_result\n",
    "        \n",
    "\n",
    "class QNetwork(nn.Module):\n",
    "    def __init__(self, observation_shape, action_shape, device='cpu'):\n",
    "        super().__init__()\n",
    "        self.observation_shape = observation_shape\n",
    "        self.action_shape = action_shape\n",
    "        self.device = device\n",
    "\n",
    "        self.cnn = nn.Sequential(\n",
    "            nn.Conv2d(observation_shape[-1], 16, 3, padding=1),\n",
    "            ConvResidual(16, self.device),\n",
    "            ConvResidual(16, self.device),\n",
    "            ConvResidual(16, self.device),\n",
    "        ).to(self.device)\n",
    "        \n",
    "        self.network = nn.Sequential(\n",
    "            nn.Linear(observation_shape[0] * observation_shape[1] * 16, 120),\n",
    "            LinearResidual(120, self.device),\n",
    "            LinearResidual(120, self.device),\n",
    "            LinearResidual(120, self.device),\n",
    "            nn.Linear(120, action_shape),\n",
    "        ).to(self.device)\n",
    "\n",
    "    def forward(self, x):\n",
    "        x = x.to(self.device)\n",
    "        assert len(x.shape) >= 3, \"only support magent input observation\"\n",
    "        x = self.cnn(x)\n",
    "        if len(x.shape) == 3:\n",
    "            batchsize = 1\n",
    "        else:\n",
    "            batchsize = x.shape[0]\n",
    "        x = x.reshape(batchsize, -1)\n",
    "        return self.network(x)"
   ]
  },
  {
   "cell_type": "markdown",
   "id": "0ff355f5",
   "metadata": {
    "papermill": {
     "duration": 0.007194,
     "end_time": "2024-12-13T04:53:45.277737",
     "exception": false,
     "start_time": "2024-12-13T04:53:45.270543",
     "status": "completed"
    },
    "tags": []
   },
   "source": [
    "## Trainer"
   ]
  },
  {
   "cell_type": "code",
   "execution_count": 10,
   "id": "f1c8fe92",
   "metadata": {
    "execution": {
     "iopub.execute_input": "2024-12-13T04:53:45.293944Z",
     "iopub.status.busy": "2024-12-13T04:53:45.293700Z",
     "iopub.status.idle": "2024-12-13T04:53:45.325830Z",
     "shell.execute_reply": "2024-12-13T04:53:45.325030Z"
    },
    "papermill": {
     "duration": 0.042437,
     "end_time": "2024-12-13T04:53:45.327380",
     "exception": false,
     "start_time": "2024-12-13T04:53:45.284943",
     "status": "completed"
    },
    "tags": []
   },
   "outputs": [],
   "source": [
    "class Trainer:\n",
    "    def __init__(\n",
    "        self, \n",
    "        policy_net, target_net, evalua_net, pretrain_net, \n",
    "        lossfunc, optimizer, scheduler, \n",
    "        action_shape, \n",
    "        epsilon=1.0, epsilon_min=0.01, epsilon_beta=0.995, \n",
    "        weight_init=True, custom_weight_initializer=None, \n",
    "        device='cpu'\n",
    "    ):\n",
    "        \n",
    "        self.policy_net = policy_net.to(device)\n",
    "        self.target_net = target_net.to(device)\n",
    "        self.target_net.eval()\n",
    "        self.evalua_net = evalua_net.to(device)\n",
    "        self.evalua_net.eval()\n",
    "        self.pretrain_net = pretrain_net.to(device)\n",
    "        self.pretrain_net.eval()\n",
    "        \n",
    "        self.lossfuncs = lossfunc\n",
    "        self.optimizer = optimizer\n",
    "        self.scheduler = scheduler\n",
    "\n",
    "        self.action_shape = action_shape\n",
    "        \n",
    "        self.epsilon = epsilon\n",
    "        self.epsilon_min = epsilon_min\n",
    "        self.epsilon_beta = epsilon_beta\n",
    "        \n",
    "        self.weight_init = weight_init\n",
    "        self.custom_weight_initializer = custom_weight_initializer\n",
    "\n",
    "        self.device = device\n",
    "        \n",
    "        self.save_best_model = False\n",
    "        \n",
    "        if self.weight_init:\n",
    "            if self.custom_weight_initializer:\n",
    "                self.policy_net.apply(self.custom_weight_initializer)\n",
    "            else:\n",
    "                self.policy_net.apply(self.xavier_init_weight)\n",
    "                \n",
    "    def xavier_init_weight(self, m):\n",
    "        if isinstance(m, nn.Conv2d) or isinstance(m, nn.ConvTranspose2d):\n",
    "            nn.init.xavier_uniform_(m.weight)\n",
    "            if torch.is_tensor(m.bias):\n",
    "                m.bias.data.fill_(0.01)\n",
    "    \n",
    "    def save_model(self, dirname='/kaggle/working/model_params', filename='full_model.pth', only_network=False):\n",
    "        if not os.path.isdir(dirname):\n",
    "            os.mkdir(dirname)\n",
    "        state_dicts = {\n",
    "            'network_params': self.policy_net.state_dict(),\n",
    "            'scheduler_params': self.scheduler.state_dict(),\n",
    "            'optimizer_params': self.optimizer.state_dict(),\n",
    "        }\n",
    "        if only_network:\n",
    "            return torch.save(self.policy_net.state_dict(), os.path.join(dirname, filename))\n",
    "        return torch.save(state_dicts, os.path.join(dirname, filename))\n",
    "    \n",
    "    def load_model(self, dirname='/kaggle/working/model_params', filename='full_model.pth'):\n",
    "        best_model_path = f'{dirname}/{filename}'\n",
    "        if os.path.exists(best_model_path):\n",
    "            try:\n",
    "                best_model_state = torch.load(best_model_path, weights_only=True, map_location=self.device)['network_params']\n",
    "            except:\n",
    "                best_model_state = torch.load(best_model_path, weights_only=True, map_location=self.device)\n",
    "            self.policy_net.load_state_dict(best_model_state)\n",
    "            print(f'Model is loaded from {best_model_path}')\n",
    "        else:\n",
    "            print(f'Model is not exist at {best_model_path}')\n",
    "\n",
    "    def epsilon_greedy_policy(self, observation):\n",
    "        if np.random.rand() < self.epsilon:\n",
    "            return np.random.randint(low=0, high=self.action_shape)\n",
    "        observation = torch.FloatTensor(observation).unsqueeze(0).to(self.device)\n",
    "        with torch.no_grad():\n",
    "            return self.policy_net(observation).squeeze().argmax().item()\n",
    "                \n",
    "    def _train_policy_net(self, train_loader, batch_size, gamma):\n",
    "        # Tạo train loader\n",
    "        self.policy_net.train()\n",
    "        for obss, actions, rewards, n_obss, dones in train_loader:\n",
    "            self.policy_net.zero_grad()\n",
    "            \n",
    "            obss = obss.to(self.device)\n",
    "            actions = actions.unsqueeze(1).to(self.device)\n",
    "            rewards = rewards.unsqueeze(1).to(self.device)\n",
    "            n_obss = n_obss.to(self.device)\n",
    "            dones = dones.unsqueeze(1).to(self.device)\n",
    "            \n",
    "            # Tính giá trị Q mục tiêu\n",
    "            with torch.no_grad():\n",
    "                target_q_values = rewards + gamma * (1 - dones) * self.target_net(n_obss).max(1, keepdim=True)[0]\n",
    "            \n",
    "            # Tính giá trị Q hiện tại\n",
    "            current_q_values = self.policy_net(obss).gather(1, actions)\n",
    "            \n",
    "            # Compute loss\n",
    "            loss = self.lossfuncs(current_q_values, target_q_values)\n",
    "            \n",
    "            # Optimize the network\n",
    "            loss.backward()\n",
    "            self.optimizer.step()\n",
    "            self.scheduler.step()\n",
    "\n",
    "    def _eval_policy_net(self, env, opponent_net):\n",
    "        self.policy_net.eval()\n",
    "        result = []\n",
    "        T_result = []\n",
    "\n",
    "        # Xác định đối thủ\n",
    "        if opponent_net == 'target':\n",
    "            opponent_net = self.target_net\n",
    "        elif opponent_net == 'pretrain':\n",
    "            opponent_net = self.pretrain_net\n",
    "        else:\n",
    "            opponent_net = self.evalua_net\n",
    "\n",
    "        model = {'red': self.policy_net, 'blue': opponent_net}\n",
    "        with torch.no_grad():\n",
    "            for turn in range(2): # Đánh giá ở cả 2 bên đỏ và xanh\n",
    "                T = 0\n",
    "                red_reward = 0\n",
    "                blue_reward = 0                \n",
    "                env.reset()\n",
    "                for agent in env.agent_iter():\n",
    "                    T += 1\n",
    "                    observation, reward, termination, truncation, info = env.last()\n",
    "                    observation = np.transpose(observation, (2, 0, 1))\n",
    "                    observation = torch.FloatTensor(observation).unsqueeze(0).to(self.device)\n",
    "\n",
    "                    # Chọn hành động\n",
    "                    if 'red' in agent:\n",
    "                        red_reward += reward\n",
    "                        if termination or truncation:\n",
    "                            action = None\n",
    "                        else:\n",
    "                            action = model['red'](observation).squeeze().argmax().item()\n",
    "                    else:\n",
    "                        blue_reward += reward\n",
    "                        if termination or truncation:\n",
    "                            action = None\n",
    "                        else:\n",
    "                            action = model['blue'](observation).squeeze().argmax().item()\n",
    "                    env.step(action)\n",
    "\n",
    "                # Lưu lại kết quả\n",
    "                if turn == 0:\n",
    "                    result.append(red_reward - blue_reward)\n",
    "                else:\n",
    "                    result.append(blue_reward - red_reward)\n",
    "                T_result.append(T)\n",
    "                \n",
    "                model = {'blue': self.policy_net, 'red': opponent_net} # Đổi bên\n",
    "                \n",
    "        # Lấy min để trả về, nếu min > 0 thì tức cả 2 đều rất Ok và ngược lại thì ít nhất có 1 bên không ổn, không lấy.        \n",
    "        gap_result = min(result)\n",
    "        T_result = T_result[result.index(gap_result)]\n",
    "        return gap_result, T_result\n",
    "\n",
    "    def _upgrade_memory(self, env, memory, small_memory):\n",
    "        total_train_reward = {'red': 0, 'blue': 0}\n",
    "        T = 0\n",
    "        prev_observations = {}\n",
    "        prev_actions = {}\n",
    "        memory_idx = {}\n",
    "        \n",
    "        env.reset()\n",
    "        for idx, agent in enumerate(env.agent_iter()):\n",
    "            T += 1\n",
    "            prev_observation, reward, termination, truncation, _ = env.last()\n",
    "            prev_observation = np.transpose(prev_observation, (2, 0, 1))\n",
    "            if 'red' in agent:\n",
    "                total_train_reward['red'] += reward\n",
    "            else:\n",
    "                total_train_reward['blue'] += reward\n",
    "            prev_action = self.epsilon_greedy_policy(prev_observation)\n",
    "\n",
    "            memory_idx[agent] = 0\n",
    "            prev_observations[agent] = prev_observation\n",
    "            prev_actions[agent] = prev_action\n",
    "            env.step(prev_action)     \n",
    "            \n",
    "            if (idx+1) % env.num_agents == 0:\n",
    "                break\n",
    "                \n",
    "        for agent in env.agent_iter():\n",
    "            T += 1\n",
    "            \n",
    "            # Từ trạng thái trước, thực hiện hành động để lấy trạng thái hiện tại\n",
    "            observation, reward, termination, truncation, _ = env.last()\n",
    "            observation = np.transpose(observation, (2, 0, 1))\n",
    "\n",
    "            # Đánh giá phần thưởng của trận đấu\n",
    "            if 'red' in agent:\n",
    "                total_train_reward['red'] += reward\n",
    "            else:\n",
    "                total_train_reward['blue'] += reward\n",
    "\n",
    "            # Nếu agent chết rồi thì hành động chọn là None\n",
    "            if termination or truncation:\n",
    "                action = None\n",
    "            else:\n",
    "                action = self.epsilon_greedy_policy(observation)\n",
    "            env.step(action)\n",
    "            \n",
    "            # Thêm bộ (S, A, R+, S+, terminal?) vào bộ nhớ để training\n",
    "            small_memory.push(\n",
    "                memory_idx[agent],\n",
    "                prev_observations[agent], \n",
    "                prev_actions[agent], \n",
    "                reward, \n",
    "                observation, \n",
    "                termination\n",
    "            )\n",
    "            memory.push(\n",
    "                memory_idx[agent],\n",
    "                prev_observations[agent], \n",
    "                prev_actions[agent], \n",
    "                reward, \n",
    "                observation, \n",
    "                termination\n",
    "            )\n",
    "\n",
    "            memory_idx[agent] += 1\n",
    "            prev_observations[agent] = observation\n",
    "            prev_actions[agent] = action\n",
    "        gap_reward = total_train_reward['red'] - total_train_reward['blue']\n",
    "        return gap_reward, T\n",
    "\n",
    "    def _upgrade_net(self, scr_weight, tgt_weight, update_rate):\n",
    "        for key in scr_weight:\n",
    "            tgt_weight[key] = scr_weight[key]*update_rate + tgt_weight[key]*(1-update_rate)\n",
    "        return tgt_weight\n",
    "    \n",
    "    def train(self, \n",
    "              train_memory, small_memory, episodes, batch_size, gamma, env, \n",
    "              inline_epochs=0, exten_epochs=0, \n",
    "              eval_opponent_net='evalua', \n",
    "              update_tgt_net_frequence=10, update_tgt_net_rate=0.005, \n",
    "              update_eva_net_frequence=4, \n",
    "              detect_best_model=True, \n",
    "              save_at_end=False, save_only_network=False, save_name='full_model.pth',\n",
    "             ):\n",
    "        all_train_gap_rewards = []\n",
    "        all_T_train = []\n",
    "        all_val_gap_rewards = []\n",
    "        all_T_val = []\n",
    "        saved = []\n",
    "    \n",
    "        for episode in range(episodes):\n",
    "            # Cập nhật bộ nhớ\n",
    "            train_gap_reward, T_train = self._upgrade_memory(env, train_memory, small_memory)\n",
    "\n",
    "            # Training mô hình với memory hiện tại\n",
    "            train_loader = DataLoader(small_memory, batch_size=batch_size, shuffle=True)\n",
    "            self._train_policy_net(train_loader, batch_size, gamma)\n",
    "            if inline_epochs-1 > 0:\n",
    "                for epoch in range(inline_epochs-1):\n",
    "                    self._train_policy_net(train_loader, batch_size, gamma)\n",
    "                \n",
    "            # Đánh giá model, phần thưởng thu được càng lớn thì càng tốt\n",
    "            # val_gap_reward, T_val = self._eval_policy_net(env, opponent_net=eval_opponent_net)\n",
    "            val_gap_reward, T_val = float('-inf'), float('-inf')\n",
    "            \n",
    "            # Cập nhật lại mô hình mục tiêu theo chu kì\n",
    "            if episode % update_tgt_net_frequence == 0:\n",
    "                weight = self._upgrade_net(self.policy_net.state_dict(), self.target_net.state_dict(), 1)\n",
    "                self.target_net.load_state_dict(weight)\n",
    "            \n",
    "            # Cập nhật lại mô hình đánh giá theo chu kì\n",
    "            if episode % update_eva_net_frequence == 0:\n",
    "                weight = self._upgrade_net(self.policy_net.state_dict(), self.evalua_net.state_dict(), 1)\n",
    "                self.evalua_net.load_state_dict(weight)\n",
    "        \n",
    "            # Cập nhật lại epsilon, do càng train thì mô hình càng tốt, từ đó ít cần khám phá hơn\n",
    "            self.epsilon = max(self.epsilon_min, self.epsilon * self.epsilon_beta)\n",
    "\n",
    "            # Logging\n",
    "            print(f\"Episode {episode + 1}, Train: {train_gap_reward}, {T_train}; Val: {val_gap_reward}, {T_val}\")\n",
    "\n",
    "            all_train_gap_rewards.append(train_gap_reward)\n",
    "            all_val_gap_rewards.append(val_gap_reward)\n",
    "            all_T_train.append(T_train)\n",
    "            all_T_val.append(T_val)\n",
    "            saved.append(0)\n",
    "\n",
    "        train_loader = DataLoader(train_memory, batch_size=batch_size, shuffle=True)\n",
    "        if exten_epochs > 0:\n",
    "            print('Extra Training: ')\n",
    "            max_reward = float('-inf')\n",
    "            for epoch in range(exten_epochs):\n",
    "                self._train_policy_net(train_loader, batch_size, gamma)\n",
    "                # val_gap_reward, T_val = self._eval_policy_net(env, opponent_net=eval_opponent_net)\n",
    "                val_gap_reward, T_val = float('-inf'), float('-inf')\n",
    "            \n",
    "                # Cập nhật lại mô hình mục tiêu theo chu kì\n",
    "                if epoch % update_tgt_net_frequence == 0:\n",
    "                    weight = self._upgrade_net(self.policy_net.state_dict(), self.target_net.state_dict(), update_tgt_net_rate)\n",
    "                    self.target_net.load_state_dict(weight)\n",
    "\n",
    "                # Lưu lại model nếu kết quả tốt\n",
    "                if detect_best_model and val_gap_reward > max_reward:\n",
    "                    max_reward = val_gap_reward\n",
    "                    self.save_model(filename=save_name, only_network=save_only_network)\n",
    "                    self.save_best_model = True\n",
    "                    saved.append(1)\n",
    "                else:\n",
    "                    saved.append(0)\n",
    "    \n",
    "                # Logging\n",
    "                print(f\"Epochs {epoch + 1}, Val: {val_gap_reward}, {T_val}\")\n",
    "    \n",
    "                all_train_gap_rewards.append(float('-inf'))\n",
    "                all_val_gap_rewards.append(val_gap_reward)\n",
    "                all_T_train.append(float('-inf'))\n",
    "                all_T_val.append(T_val)\n",
    "\n",
    "        if not self.save_best_model or save_at_end:\n",
    "            self.save_model(filename=f'save-at-end-{save_name}', only_network=save_only_network)\n",
    "            self.save_best_model = True\n",
    "            saved[-1] = 1\n",
    "        return all_train_gap_rewards, all_T_train, all_val_gap_rewards, all_T_val, saved"
   ]
  },
  {
   "cell_type": "markdown",
   "id": "95fc6e12",
   "metadata": {
    "papermill": {
     "duration": 0.007138,
     "end_time": "2024-12-13T04:53:45.341871",
     "exception": false,
     "start_time": "2024-12-13T04:53:45.334733",
     "status": "completed"
    },
    "tags": []
   },
   "source": [
    "## Training Model"
   ]
  },
  {
   "cell_type": "code",
   "execution_count": 11,
   "id": "69c00c46",
   "metadata": {
    "execution": {
     "iopub.execute_input": "2024-12-13T04:53:45.357452Z",
     "iopub.status.busy": "2024-12-13T04:53:45.357194Z",
     "iopub.status.idle": "2024-12-13T04:53:45.669523Z",
     "shell.execute_reply": "2024-12-13T04:53:45.668652Z"
    },
    "papermill": {
     "duration": 0.322372,
     "end_time": "2024-12-13T04:53:45.671551",
     "exception": false,
     "start_time": "2024-12-13T04:53:45.349179",
     "status": "completed"
    },
    "tags": []
   },
   "outputs": [
    {
     "data": {
      "text/plain": [
       "<All keys matched successfully>"
      ]
     },
     "execution_count": 11,
     "metadata": {},
     "output_type": "execute_result"
    }
   ],
   "source": [
    "policy_net = QNetwork(**model_params)\n",
    "\n",
    "target_net = QNetwork(**model_params)\n",
    "target_net.load_state_dict(policy_net.state_dict())\n",
    "\n",
    "evalua_net = QNetwork(**model_params)\n",
    "evalua_net.load_state_dict(policy_net.state_dict())\n",
    "\n",
    "pretrain_net = PretrainQNetwork(**pretrain_model_params)\n",
    "pretrain_net.load_state_dict(\n",
    "    torch.load(pretrain_params, weights_only=True, map_location=device)\n",
    ")"
   ]
  },
  {
   "cell_type": "code",
   "execution_count": 12,
   "id": "94bbbb9f",
   "metadata": {
    "execution": {
     "iopub.execute_input": "2024-12-13T04:53:45.691344Z",
     "iopub.status.busy": "2024-12-13T04:53:45.691031Z",
     "iopub.status.idle": "2024-12-13T04:53:46.873148Z",
     "shell.execute_reply": "2024-12-13T04:53:46.872446Z"
    },
    "papermill": {
     "duration": 1.19256,
     "end_time": "2024-12-13T04:53:46.875125",
     "exception": false,
     "start_time": "2024-12-13T04:53:45.682565",
     "status": "completed"
    },
    "tags": []
   },
   "outputs": [],
   "source": [
    "loss_function = nn.MSELoss()\n",
    "optimizer = torch.optim.AdamW(policy_net.parameters(), **optim_params)\n",
    "lr_scheduler = torch.optim.lr_scheduler.CosineAnnealingLR(optimizer, **scheduler_params)"
   ]
  },
  {
   "cell_type": "code",
   "execution_count": 13,
   "id": "198327ce",
   "metadata": {
    "execution": {
     "iopub.execute_input": "2024-12-13T04:53:46.891744Z",
     "iopub.status.busy": "2024-12-13T04:53:46.891293Z",
     "iopub.status.idle": "2024-12-13T04:53:46.923931Z",
     "shell.execute_reply": "2024-12-13T04:53:46.923271Z"
    },
    "papermill": {
     "duration": 0.042609,
     "end_time": "2024-12-13T04:53:46.925580",
     "exception": false,
     "start_time": "2024-12-13T04:53:46.882971",
     "status": "completed"
    },
    "tags": []
   },
   "outputs": [],
   "source": [
    "trainer = Trainer(\n",
    "    policy_net, target_net, evalua_net, pretrain_net, \n",
    "    loss_function, optimizer, lr_scheduler, \n",
    "    **trainer_params\n",
    ")"
   ]
  },
  {
   "cell_type": "code",
   "execution_count": 14,
   "id": "fd2d8070",
   "metadata": {
    "execution": {
     "iopub.execute_input": "2024-12-13T04:53:46.941342Z",
     "iopub.status.busy": "2024-12-13T04:53:46.941072Z",
     "iopub.status.idle": "2024-12-13T04:54:06.604402Z",
     "shell.execute_reply": "2024-12-13T04:54:06.603437Z"
    },
    "papermill": {
     "duration": 19.673485,
     "end_time": "2024-12-13T04:54:06.606485",
     "exception": false,
     "start_time": "2024-12-13T04:53:46.933000",
     "status": "completed"
    },
    "tags": []
   },
   "outputs": [
    {
     "name": "stdout",
     "output_type": "stream",
     "text": [
      "Val Gap Reward:  (-587.6400057356805, 13083)\n",
      "--- 19.65918278694153 seconds ---\n"
     ]
    }
   ],
   "source": [
    "start_time = time.time()\n",
    "val_gap_reward = trainer._eval_policy_net(**_eval_policy_params)\n",
    "print('Val Gap Reward: ', val_gap_reward)\n",
    "print(\"--- %s seconds ---\" % (time.time() - start_time))"
   ]
  },
  {
   "cell_type": "code",
   "execution_count": 15,
   "id": "9a60ee38",
   "metadata": {
    "execution": {
     "iopub.execute_input": "2024-12-13T04:54:06.627751Z",
     "iopub.status.busy": "2024-12-13T04:54:06.626983Z",
     "iopub.status.idle": "2024-12-13T06:14:25.747131Z",
     "shell.execute_reply": "2024-12-13T06:14:25.746228Z"
    },
    "papermill": {
     "duration": 4819.143982,
     "end_time": "2024-12-13T06:14:25.762125",
     "exception": false,
     "start_time": "2024-12-13T04:54:06.618143",
     "status": "completed"
    },
    "tags": []
   },
   "outputs": [
    {
     "name": "stdout",
     "output_type": "stream",
     "text": [
      "Episode 1, Train: -65.33500276319683, 158611; Val: -inf, -inf\n",
      "Episode 2, Train: -64.15000309888273, 156694; Val: -inf, -inf\n",
      "Episode 3, Train: 60.610003685578704, 136993; Val: -inf, -inf\n",
      "Episode 4, Train: -43.3750013532117, 124000; Val: -inf, -inf\n",
      "Episode 5, Train: 355.1750175729394, 95300; Val: -inf, -inf\n",
      "Episode 6, Train: 259.12001517321914, 95161; Val: -inf, -inf\n",
      "Episode 7, Train: 221.26001065503806, 105326; Val: -inf, -inf\n",
      "Episode 8, Train: 274.11001419089735, 88967; Val: -inf, -inf\n",
      "Episode 9, Train: 517.9300248352811, 85532; Val: -inf, -inf\n",
      "Episode 10, Train: 92.01000507641584, 90320; Val: -inf, -inf\n",
      "Episode 11, Train: 161.5700164064765, 52194; Val: -inf, -inf\n",
      "Episode 12, Train: -1097.7200472978875, 76822; Val: -inf, -inf\n",
      "Episode 13, Train: -295.58002018742263, 46584; Val: -inf, -inf\n",
      "Episode 14, Train: -73.06001426372677, 36674; Val: -inf, -inf\n",
      "Episode 15, Train: -288.61501441244036, 51348; Val: -inf, -inf\n",
      "Episode 16, Train: -402.0700188977644, 46530; Val: -inf, -inf\n",
      "Episode 17, Train: -127.78501180559397, 33692; Val: -inf, -inf\n",
      "Episode 18, Train: 66.21499294508249, 28136; Val: -inf, -inf\n",
      "Episode 19, Train: -144.04501072037965, 34482; Val: -inf, -inf\n",
      "Episode 20, Train: -179.56501524150372, 34831; Val: -inf, -inf\n",
      "Episode 21, Train: -42.69501064158976, 28945; Val: -inf, -inf\n",
      "Episode 22, Train: -55.57000981923193, 27514; Val: -inf, -inf\n",
      "Episode 23, Train: 23.099993200041354, 29356; Val: -inf, -inf\n",
      "Episode 24, Train: 48.34999185241759, 27704; Val: -inf, -inf\n",
      "Episode 25, Train: -8.925008636899292, 29179; Val: -inf, -inf\n",
      "Episode 26, Train: -146.14501297101378, 29829; Val: -inf, -inf\n",
      "Episode 27, Train: -85.28001335076988, 33186; Val: -inf, -inf\n",
      "Episode 28, Train: -73.05500190425664, 34404; Val: -inf, -inf\n",
      "Episode 29, Train: -275.71501594688743, 41110; Val: -inf, -inf\n",
      "Episode 30, Train: -13.110006958246231, 27688; Val: -inf, -inf\n",
      "Extra Training: \n",
      "Epochs 1, Val: -inf, -inf\n",
      "Epochs 2, Val: -inf, -inf\n",
      "Epochs 3, Val: -inf, -inf\n",
      "Epochs 4, Val: -inf, -inf\n",
      "Epochs 5, Val: -inf, -inf\n",
      "Epochs 6, Val: -inf, -inf\n",
      "Epochs 7, Val: -inf, -inf\n",
      "Epochs 8, Val: -inf, -inf\n",
      "Epochs 9, Val: -inf, -inf\n",
      "Epochs 10, Val: -inf, -inf\n",
      "--- 4819.115138053894 seconds ---\n"
     ]
    }
   ],
   "source": [
    "start_time = time.time()\n",
    "train_result = trainer.train(train_memory, small_memory, **train_func_params)\n",
    "all_train_gap_rewards, all_T_train, all_val_gap_rewards, all_T_val, saved = train_result\n",
    "print(\"--- %s seconds ---\" % (time.time() - start_time))"
   ]
  },
  {
   "cell_type": "code",
   "execution_count": 16,
   "id": "b1621be5",
   "metadata": {
    "execution": {
     "iopub.execute_input": "2024-12-13T06:14:25.783080Z",
     "iopub.status.busy": "2024-12-13T06:14:25.782795Z",
     "iopub.status.idle": "2024-12-13T06:14:25.789721Z",
     "shell.execute_reply": "2024-12-13T06:14:25.788902Z"
    },
    "papermill": {
     "duration": 0.018472,
     "end_time": "2024-12-13T06:14:25.791282",
     "exception": false,
     "start_time": "2024-12-13T06:14:25.772810",
     "status": "completed"
    },
    "scrolled": true,
    "tags": []
   },
   "outputs": [
    {
     "name": "stdout",
     "output_type": "stream",
     "text": [
      "Model is not exist at /kaggle/working/model_params/21-30-1024-bigger.pth\n"
     ]
    },
    {
     "data": {
      "text/plain": [
       "QNetwork(\n",
       "  (cnn): Sequential(\n",
       "    (0): Conv2d(5, 16, kernel_size=(3, 3), stride=(1, 1), padding=(1, 1))\n",
       "    (1): ConvResidual(\n",
       "      (model): Sequential(\n",
       "        (0): Conv2d(16, 16, kernel_size=(3, 3), stride=(1, 1), padding=(1, 1))\n",
       "        (1): BatchNorm2d(16, eps=1e-05, momentum=0.1, affine=True, track_running_stats=True)\n",
       "        (2): ReLU()\n",
       "        (3): Conv2d(16, 16, kernel_size=(3, 3), stride=(1, 1), padding=(1, 1))\n",
       "      )\n",
       "    )\n",
       "    (2): ConvResidual(\n",
       "      (model): Sequential(\n",
       "        (0): Conv2d(16, 16, kernel_size=(3, 3), stride=(1, 1), padding=(1, 1))\n",
       "        (1): BatchNorm2d(16, eps=1e-05, momentum=0.1, affine=True, track_running_stats=True)\n",
       "        (2): ReLU()\n",
       "        (3): Conv2d(16, 16, kernel_size=(3, 3), stride=(1, 1), padding=(1, 1))\n",
       "      )\n",
       "    )\n",
       "    (3): ConvResidual(\n",
       "      (model): Sequential(\n",
       "        (0): Conv2d(16, 16, kernel_size=(3, 3), stride=(1, 1), padding=(1, 1))\n",
       "        (1): BatchNorm2d(16, eps=1e-05, momentum=0.1, affine=True, track_running_stats=True)\n",
       "        (2): ReLU()\n",
       "        (3): Conv2d(16, 16, kernel_size=(3, 3), stride=(1, 1), padding=(1, 1))\n",
       "      )\n",
       "    )\n",
       "  )\n",
       "  (network): Sequential(\n",
       "    (0): Linear(in_features=2704, out_features=120, bias=True)\n",
       "    (1): LinearResidual(\n",
       "      (model): Sequential(\n",
       "        (0): Linear(in_features=120, out_features=120, bias=True)\n",
       "        (1): ReLU()\n",
       "        (2): Linear(in_features=120, out_features=120, bias=True)\n",
       "      )\n",
       "    )\n",
       "    (2): LinearResidual(\n",
       "      (model): Sequential(\n",
       "        (0): Linear(in_features=120, out_features=120, bias=True)\n",
       "        (1): ReLU()\n",
       "        (2): Linear(in_features=120, out_features=120, bias=True)\n",
       "      )\n",
       "    )\n",
       "    (3): LinearResidual(\n",
       "      (model): Sequential(\n",
       "        (0): Linear(in_features=120, out_features=120, bias=True)\n",
       "        (1): ReLU()\n",
       "        (2): Linear(in_features=120, out_features=120, bias=True)\n",
       "      )\n",
       "    )\n",
       "    (4): Linear(in_features=120, out_features=21, bias=True)\n",
       "  )\n",
       ")"
      ]
     },
     "execution_count": 16,
     "metadata": {},
     "output_type": "execute_result"
    }
   ],
   "source": [
    "if trainer.save_best_model:\n",
    "    trainer.load_model(filename=train_func_params['save_name'])\n",
    "trainer.policy_net"
   ]
  },
  {
   "cell_type": "code",
   "execution_count": 17,
   "id": "924ea52a",
   "metadata": {
    "execution": {
     "iopub.execute_input": "2024-12-13T06:14:25.810442Z",
     "iopub.status.busy": "2024-12-13T06:14:25.810212Z",
     "iopub.status.idle": "2024-12-13T06:15:02.074575Z",
     "shell.execute_reply": "2024-12-13T06:15:02.073673Z"
    },
    "papermill": {
     "duration": 36.287027,
     "end_time": "2024-12-13T06:15:02.087427",
     "exception": false,
     "start_time": "2024-12-13T06:14:25.800400",
     "status": "completed"
    },
    "tags": []
   },
   "outputs": [
    {
     "name": "stdout",
     "output_type": "stream",
     "text": [
      "Val Gap Reward:  (-17.7050006641075, 32156)\n",
      "--- 36.26028823852539 seconds ---\n"
     ]
    }
   ],
   "source": [
    "start_time = time.time()\n",
    "val_gap_reward = trainer._eval_policy_net(**_eval_policy_params)\n",
    "print('Val Gap Reward: ', val_gap_reward)\n",
    "print(\"--- %s seconds ---\" % (time.time() - start_time))"
   ]
  },
  {
   "cell_type": "markdown",
   "id": "736549f2",
   "metadata": {
    "papermill": {
     "duration": 0.009392,
     "end_time": "2024-12-13T06:15:02.106925",
     "exception": false,
     "start_time": "2024-12-13T06:15:02.097533",
     "status": "completed"
    },
    "tags": []
   },
   "source": [
    "## Visualize"
   ]
  },
  {
   "cell_type": "code",
   "execution_count": 18,
   "id": "0aa1125e",
   "metadata": {
    "execution": {
     "iopub.execute_input": "2024-12-13T06:15:02.126910Z",
     "iopub.status.busy": "2024-12-13T06:15:02.126592Z",
     "iopub.status.idle": "2024-12-13T06:15:02.134372Z",
     "shell.execute_reply": "2024-12-13T06:15:02.133761Z"
    },
    "papermill": {
     "duration": 0.019906,
     "end_time": "2024-12-13T06:15:02.136197",
     "exception": false,
     "start_time": "2024-12-13T06:15:02.116291",
     "status": "completed"
    },
    "tags": []
   },
   "outputs": [],
   "source": [
    "training_log = {\n",
    "    'Episode': list(range(1, len(all_train_gap_rewards)+1)),\n",
    "    'Train Gap Reward': all_train_gap_rewards, \n",
    "    'Val Gap Reward': all_val_gap_rewards, \n",
    "    'T Train': all_T_train, \n",
    "    'T Eval': all_T_val, \n",
    "    'Saved': saved\n",
    "}\n",
    "df = pd.DataFrame(training_log)"
   ]
  },
  {
   "cell_type": "code",
   "execution_count": 19,
   "id": "1dcea8f5",
   "metadata": {
    "execution": {
     "iopub.execute_input": "2024-12-13T06:15:02.157459Z",
     "iopub.status.busy": "2024-12-13T06:15:02.157202Z",
     "iopub.status.idle": "2024-12-13T06:15:02.528290Z",
     "shell.execute_reply": "2024-12-13T06:15:02.527439Z"
    },
    "papermill": {
     "duration": 0.383789,
     "end_time": "2024-12-13T06:15:02.530252",
     "exception": false,
     "start_time": "2024-12-13T06:15:02.146463",
     "status": "completed"
    },
    "tags": []
   },
   "outputs": [
    {
     "data": {
      "image/png": "[encoded data removed]",
      "text/plain": [
       "<Figure size 600x600 with 1 Axes>"
      ]
     },
     "metadata": {},
     "output_type": "display_data"
    }
   ],
   "source": [
    "plt.figure(figsize=(6, 6))\n",
    "\n",
    "sns.lineplot(data=df, x='Episode', y='Train Gap Reward', label='Train Gap Reward', color='blue') # Biểu đồ đường Train Gap Reward\n",
    "sns.lineplot(data=df, x='Episode', y='Val Gap Reward', label='Val Gap Reward', color='orange') # Biểu đồ đường EVal Gap Reward\n",
    "\n",
    "dfy = 'Val Gap Reward'\n",
    "saved_points = df[df['Saved'] == 1]\n",
    "sns.scatterplot(data=saved_points, x='Episode', y=dfy, color='red', label='Saved Points', s=100, zorder=5) # Đánh dấu các điểm Saved = 1\n",
    "\n",
    "# Thêm tiêu đề và chú thích\n",
    "plt.title('Training and Evaluation Rewards', fontsize=14)\n",
    "plt.xlabel('Episode', fontsize=12)\n",
    "plt.ylabel('Reward', fontsize=12)\n",
    "plt.legend()\n",
    "plt.grid(True)\n",
    "\n",
    "# Hiển thị biểu đồ\n",
    "plt.show()"
   ]
  },
  {
   "cell_type": "code",
   "execution_count": 20,
   "id": "50c4f79e",
   "metadata": {
    "execution": {
     "iopub.execute_input": "2024-12-13T06:15:02.552487Z",
     "iopub.status.busy": "2024-12-13T06:15:02.552235Z",
     "iopub.status.idle": "2024-12-13T06:15:02.795314Z",
     "shell.execute_reply": "2024-12-13T06:15:02.794430Z"
    },
    "papermill": {
     "duration": 0.256239,
     "end_time": "2024-12-13T06:15:02.796970",
     "exception": false,
     "start_time": "2024-12-13T06:15:02.540731",
     "status": "completed"
    },
    "tags": []
   },
   "outputs": [
    {
     "data": {
      "image/png": "[encoded data removed]",
      "text/plain": [
       "<Figure size 600x600 with 1 Axes>"
      ]
     },
     "metadata": {},
     "output_type": "display_data"
    }
   ],
   "source": [
    "plt.figure(figsize=(6, 6))\n",
    "\n",
    "sns.lineplot(data=df, x='Episode', y='T Train', label='T Train') # Biểu đồ đường T Train\n",
    "sns.lineplot(data=df, x='Episode', y='T Eval', label='T Eval') # Biểu đồ đường T Eval\n",
    "\n",
    "# Thêm tiêu đề và chú thích\n",
    "plt.title('Training and Evaluation Step', fontsize=14)\n",
    "plt.xlabel('Episode', fontsize=12)\n",
    "plt.ylabel('Step', fontsize=12)\n",
    "plt.legend()\n",
    "plt.grid(True)\n",
    "\n",
    "# Hiển thị biểu đồ\n",
    "plt.show()"
   ]
  },
  {
   "cell_type": "code",
   "execution_count": null,
   "id": "edbef581",
   "metadata": {
    "papermill": {
     "duration": 0.01068,
     "end_time": "2024-12-13T06:15:02.818931",
     "exception": false,
     "start_time": "2024-12-13T06:15:02.808251",
     "status": "completed"
    },
    "tags": []
   },
   "outputs": [],
   "source": []
  }
 ],
 "metadata": {
  "kaggle": {
   "accelerator": "gpu",
   "dataSources": [],
   "dockerImageVersionId": 30787,
   "isGpuEnabled": true,
   "isInternetEnabled": true,
   "language": "python",
   "sourceType": "notebook"
  },
  "kernelspec": {
   "display_name": "Python 3",
   "language": "python",
   "name": "python3"
  },
  "language_info": {
   "codemirror_mode": {
    "name": "ipython",
    "version": 3
   },
   "file_extension": ".py",
   "mimetype": "text/x-python",
   "name": "python",
   "nbconvert_exporter": "python",
   "pygments_lexer": "ipython3",
   "version": "3.10.14"
  },
  "papermill": {
   "default_parameters": {},
   "duration": 4923.487091,
   "end_time": "2024-12-13T06:15:06.317307",
   "environment_variables": {},
   "exception": null,
   "input_path": "__notebook__.ipynb",
   "output_path": "__notebook__.ipynb",
   "parameters": {},
   "start_time": "2024-12-13T04:53:02.830216",
   "version": "2.6.0"
  }
 },
 "nbformat": 4,
 "nbformat_minor": 5
}
