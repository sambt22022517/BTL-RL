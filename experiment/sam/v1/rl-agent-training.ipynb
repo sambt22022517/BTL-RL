{
 "cells": [
  {
   "cell_type": "code",
   "execution_count": 1,
   "id": "2657b938",
   "metadata": {
    "_cell_guid": "b1076dfc-b9ad-4769-8c92-a6c4dae69d19",
    "_uuid": "8f2839f25d086af736a60e9eeb907d3b93b6e0e5",
    "execution": {
     "iopub.execute_input": "2024-11-29T12:34:45.054722Z",
     "iopub.status.busy": "2024-11-29T12:34:45.054356Z",
     "iopub.status.idle": "2024-11-29T12:34:45.744541Z",
     "shell.execute_reply": "2024-11-29T12:34:45.743740Z"
    },
    "papermill": {
     "duration": 0.699171,
     "end_time": "2024-11-29T12:34:45.746598",
     "exception": false,
     "start_time": "2024-11-29T12:34:45.047427",
     "status": "completed"
    },
    "tags": []
   },
   "outputs": [
    {
     "name": "stdout",
     "output_type": "stream",
     "text": [
      "/kaggle/input/"
     ]
    }
   ],
   "source": [
    "# This Python 3 environment comes with many helpful analytics libraries installed\n",
    "# It is defined by the kaggle/python Docker image: https://github.com/kaggle/docker-python\n",
    "# For example, here's several helpful packages to load\n",
    "\n",
    "import numpy as np # linear algebra\n",
    "import pandas as pd # data processing, CSV file I/O (e.g. pd.read_csv)\n",
    "\n",
    "# Input data files are available in the read-only \"../input/\" directory\n",
    "# For example, running this (by clicking run or pressing Shift+Enter) will list all files under the input directory\n",
    "\n",
    "import os\n",
    "for dirname, _, filenames in os.walk('/kaggle/input'):\n",
    "    print(os.path.join(dirname, ''))\n",
    "\n",
    "# You can write up to 20GB to the current directory (/kaggle/working/) that gets preserved as output when you create a version using \"Save & Run All\" \n",
    "# You can also write temporary files to /kaggle/temp/, but they won't be saved outside of the current session"
   ]
  },
  {
   "cell_type": "code",
   "execution_count": 2,
   "id": "35d6f7f6",
   "metadata": {
    "execution": {
     "iopub.execute_input": "2024-11-29T12:34:45.758018Z",
     "iopub.status.busy": "2024-11-29T12:34:45.757588Z",
     "iopub.status.idle": "2024-11-29T12:35:19.021857Z",
     "shell.execute_reply": "2024-11-29T12:35:19.020510Z"
    },
    "papermill": {
     "duration": 33.272312,
     "end_time": "2024-11-29T12:35:19.024067",
     "exception": false,
     "start_time": "2024-11-29T12:34:45.751755",
     "status": "completed"
    },
    "scrolled": true,
    "tags": []
   },
   "outputs": [
    {
     "name": "stdout",
     "output_type": "stream",
     "text": [
      "Collecting git+https://github.com/Farama-Foundation/MAgent2\r\n",
      "  Cloning https://github.com/Farama-Foundation/MAgent2 to /tmp/pip-req-build-f_gx260v\r\n",
      "  Running command git clone --filter=blob:none --quiet https://github.com/Farama-Foundation/MAgent2 /tmp/pip-req-build-f_gx260v\r\n",
      "  Resolved https://github.com/Farama-Foundation/MAgent2 to commit b2ddd49445368cf85d4d4e1edcddae2e28aa1406\r\n",
      "  Installing build dependencies ... \u001b[?25l-\b \b\\\b \b|\b \b/\b \b-\b \b\\\b \b|\b \bdone\r\n",
      "\u001b[?25h  Getting requirements to build wheel ... \u001b[?25l-\b \bdone\r\n",
      "\u001b[?25h  Preparing metadata (pyproject.toml) ... \u001b[?25l-\b \bdone\r\n",
      "\u001b[?25hRequirement already satisfied: numpy<2.0,>=1.21.0 in /opt/conda/lib/python3.10/site-packages (from magent2==0.3.3) (1.26.4)\r\n",
      "Collecting pygame>=2.1.0 (from magent2==0.3.3)\r\n",
      "  Downloading pygame-2.6.1-cp310-cp310-manylinux_2_17_x86_64.manylinux2014_x86_64.whl.metadata (12 kB)\r\n",
      "Requirement already satisfied: pettingzoo>=1.23.1 in /opt/conda/lib/python3.10/site-packages (from magent2==0.3.3) (1.24.0)\r\n",
      "Requirement already satisfied: gymnasium>=0.28.0 in /opt/conda/lib/python3.10/site-packages (from pettingzoo>=1.23.1->magent2==0.3.3) (0.29.0)\r\n",
      "Requirement already satisfied: cloudpickle>=1.2.0 in /opt/conda/lib/python3.10/site-packages (from gymnasium>=0.28.0->pettingzoo>=1.23.1->magent2==0.3.3) (3.0.0)\r\n",
      "Requirement already satisfied: typing-extensions>=4.3.0 in /opt/conda/lib/python3.10/site-packages (from gymnasium>=0.28.0->pettingzoo>=1.23.1->magent2==0.3.3) (4.12.2)\r\n",
      "Requirement already satisfied: farama-notifications>=0.0.1 in /opt/conda/lib/python3.10/site-packages (from gymnasium>=0.28.0->pettingzoo>=1.23.1->magent2==0.3.3) (0.0.4)\r\n",
      "Downloading pygame-2.6.1-cp310-cp310-manylinux_2_17_x86_64.manylinux2014_x86_64.whl (14.0 MB)\r\n",
      "\u001b[2K   \u001b[90m━━━━━━━━━━━━━━━━━━━━━━━━━━━━━━━━━━━━━━━━\u001b[0m \u001b[32m14.0/14.0 MB\u001b[0m \u001b[31m49.2 MB/s\u001b[0m eta \u001b[36m0:00:00\u001b[0m\r\n",
      "\u001b[?25hBuilding wheels for collected packages: magent2\r\n",
      "  Building wheel for magent2 (pyproject.toml) ... \u001b[?25l-\b \b\\\b \b|\b \b/\b \b-\b \b\\\b \b|\b \b/\b \b-\b \b\\\b \b|\b \b/\b \b-\b \b\\\b \b|\b \b/\b \b-\b \b\\\b \b|\b \b/\b \b-\b \b\\\b \b|\b \b/\b \b-\b \b\\\b \b|\b \b/\b \b-\b \b\\\b \bdone\r\n",
      "\u001b[?25h  Created wheel for magent2: filename=magent2-0.3.3-cp310-cp310-linux_x86_64.whl size=1696138 sha256=cf506df5c0ea592e28c52aa5010c50c731193e8f6956b499e2095fb6a966e91d\r\n",
      "  Stored in directory: /tmp/pip-ephem-wheel-cache-gh2t9613/wheels/e4/8e/bf/51a30bc4038546e23b81c9fb513fe6a8fd916e5a9c5f4291d5\r\n",
      "Successfully built magent2\r\n",
      "Installing collected packages: pygame, magent2\r\n",
      "Successfully installed magent2-0.3.3 pygame-2.6.1\r"
     ]
    }
   ],
   "source": [
    "!pip install git+https://github.com/Farama-Foundation/MAgent2"
   ]
  },
  {
   "cell_type": "markdown",
   "id": "dc2ec957",
   "metadata": {
    "papermill": {
     "duration": 0.007022,
     "end_time": "2024-11-29T12:35:19.038519",
     "exception": false,
     "start_time": "2024-11-29T12:35:19.031497",
     "status": "completed"
    },
    "tags": []
   },
   "source": [
    "## Import module"
   ]
  },
  {
   "cell_type": "code",
   "execution_count": 3,
   "id": "fd8b63ca",
   "metadata": {
    "execution": {
     "iopub.execute_input": "2024-11-29T12:35:19.053823Z",
     "iopub.status.busy": "2024-11-29T12:35:19.053509Z",
     "iopub.status.idle": "2024-11-29T12:35:23.691404Z",
     "shell.execute_reply": "2024-11-29T12:35:23.690490Z"
    },
    "papermill": {
     "duration": 4.648022,
     "end_time": "2024-11-29T12:35:23.693477",
     "exception": false,
     "start_time": "2024-11-29T12:35:19.045455",
     "status": "completed"
    },
    "tags": []
   },
   "outputs": [],
   "source": [
    "import torch\n",
    "import torch.nn as nn\n",
    "from torch.utils.data import Dataset, DataLoader\n",
    "import torch.nn.functional as F\n",
    "\n",
    "from magent2.environments import battle_v4\n",
    "import cv2\n",
    "from collections import deque\n",
    "import time\n",
    "import random\n",
    "import seaborn as sns\n",
    "from matplotlib import pyplot as plt\n",
    "from IPython.display import FileLink\n",
    "import warnings\n",
    "warnings.filterwarnings('ignore')"
   ]
  },
  {
   "cell_type": "markdown",
   "id": "f43c4438",
   "metadata": {
    "papermill": {
     "duration": 0.007258,
     "end_time": "2024-11-29T12:35:23.708396",
     "exception": false,
     "start_time": "2024-11-29T12:35:23.701138",
     "status": "completed"
    },
    "tags": []
   },
   "source": [
    "## Config"
   ]
  },
  {
   "cell_type": "code",
   "execution_count": null,
   "id": "29e0942e",
   "metadata": {
    "execution": {
     "iopub.execute_input": "2024-11-29T12:35:23.724263Z",
     "iopub.status.busy": "2024-11-29T12:35:23.723508Z",
     "iopub.status.idle": "2024-11-29T12:35:23.814772Z",
     "shell.execute_reply": "2024-11-29T12:35:23.813824Z"
    },
    "papermill": {
     "duration": 0.101477,
     "end_time": "2024-11-29T12:35:23.816848",
     "exception": false,
     "start_time": "2024-11-29T12:35:23.715371",
     "status": "completed"
    },
    "tags": []
   },
   "outputs": [],
   "source": [
    "# Random seed\n",
    "SEED = 42\n",
    "\n",
    "# Env\n",
    "env = battle_v4.env(map_size=45, render_mode=\"rgb_array\")\n",
    "\n",
    "# Trainer\n",
    "learning_rate = 1e-3\n",
    "min_lr = 1e-6\n",
    "weight_decay = 0.0\n",
    "eta_min = 0.000001\n",
    "epsilon_max = 1.0\n",
    "epsilon_min = 0.01\n",
    "epsilon_beta = 0.9\n",
    "weight_init = True\n",
    "custom_weight_initializer = None\n",
    "device = 'cuda' if torch.cuda.is_available() else 'cpu'\n",
    "\n",
    "# training\n",
    "episodes = 20\n",
    "eval_agent_color = 'red'\n",
    "batch_size = 2**10\n",
    "gamma = 0.9\n",
    "update_tgt_net_frequence = 1\n",
    "update_tgt_net_rate = 0.3\n",
    "detect_best_model_by = None\n",
    "save_at_end = True\n",
    "save_only_network = True\n",
    "name = f'{episodes}-{batch_size}.pth'\n",
    "\n",
    "# Result Video\n",
    "vid_dir = \"video\"\n",
    "os.makedirs(vid_dir, exist_ok=True)\n",
    "fps = 35\n",
    "video_name = f'red_{name.replace(\".\", \"\")} vs blue_{name.replace(\".\", \"\")}'\n",
    "\n",
    "# Memory\n",
    "maxlen = 162 * episodes"
   ]
  },
  {
   "cell_type": "code",
   "execution_count": 5,
   "id": "8d8ea967",
   "metadata": {
    "execution": {
     "iopub.execute_input": "2024-11-29T12:35:23.832492Z",
     "iopub.status.busy": "2024-11-29T12:35:23.832227Z",
     "iopub.status.idle": "2024-11-29T12:35:23.840571Z",
     "shell.execute_reply": "2024-11-29T12:35:23.839756Z"
    },
    "papermill": {
     "duration": 0.018114,
     "end_time": "2024-11-29T12:35:23.842335",
     "exception": false,
     "start_time": "2024-11-29T12:35:23.824221",
     "status": "completed"
    },
    "tags": []
   },
   "outputs": [],
   "source": [
    "np.random.seed(SEED)\n",
    "torch.manual_seed(SEED)\n",
    "torch.cuda.manual_seed(SEED)"
   ]
  },
  {
   "cell_type": "markdown",
   "id": "85c25cc7",
   "metadata": {
    "papermill": {
     "duration": 0.007009,
     "end_time": "2024-11-29T12:35:23.856757",
     "exception": false,
     "start_time": "2024-11-29T12:35:23.849748",
     "status": "completed"
    },
    "tags": []
   },
   "source": [
    "## Data"
   ]
  },
  {
   "cell_type": "code",
   "execution_count": 6,
   "id": "91415ef8",
   "metadata": {
    "execution": {
     "iopub.execute_input": "2024-11-29T12:35:23.872104Z",
     "iopub.status.busy": "2024-11-29T12:35:23.871827Z",
     "iopub.status.idle": "2024-11-29T12:35:23.882004Z",
     "shell.execute_reply": "2024-11-29T12:35:23.881168Z"
    },
    "papermill": {
     "duration": 0.019958,
     "end_time": "2024-11-29T12:35:23.883672",
     "exception": false,
     "start_time": "2024-11-29T12:35:23.863714",
     "status": "completed"
    },
    "tags": []
   },
   "outputs": [],
   "source": [
    "class Memory(Dataset):\n",
    "    def __init__(self, maxlen):\n",
    "        super().__init__()\n",
    "        self.maxlen = maxlen\n",
    "        self.step_memory = [deque(maxlen=self.maxlen)]\n",
    "    \n",
    "    def push(self, memory_idx, state, action, reward, next_state, done):\n",
    "        if memory_idx == len(self.step_memory):\n",
    "            self.step_memory.append(deque(maxlen=self.maxlen))\n",
    "        self.step_memory[memory_idx].append((state, action, reward, next_state, done))\n",
    "    \n",
    "    def sample(self, batch_size):\n",
    "        memory_idxes = np.empty(0, dtype=int)\n",
    "        while batch_size >= len(self.step_memory):\n",
    "            memory_idxes = np.concatenate((memory_idxes, np.arange(len(self.step_memory))), axis=0)\n",
    "            batch_size -= len(self.step_memory)\n",
    "        if batch_size > 0:\n",
    "            memory_idxes = np.concatenate((memory_idxes, np.random.choice(len(self.step_memory), batch_size, replace=False)), axis=0)\n",
    "\n",
    "        batch = []\n",
    "        for idx in memory_idxes:\n",
    "            data_idx = np.random.choice(len(self.step_memory[idx]), 1)[0]\n",
    "            batch.append(self.step_memory[idx][data_idx])\n",
    "            \n",
    "        state, action, reward, next_state, done = zip(*batch)\n",
    "        return (\n",
    "            torch.tensor(state),\n",
    "            torch.tensor(action),\n",
    "            torch.tensor(reward, dtype=torch.float),\n",
    "            torch.tensor(next_state),\n",
    "            torch.tensor(done, dtype=torch.float32),\n",
    "        )\n",
    "    \n",
    "    def __len__(self):\n",
    "        return sum([len(memory) for memory in self.step_memory])\n",
    "\n",
    "    def __getitem__(self, idx):\n",
    "        memory_idx = 0\n",
    "        while idx >= len(self.step_memory[memory_idx]):\n",
    "            idx -= len(self.step_memory[memory_idx])\n",
    "            memory_idx += 1\n",
    "        state, action, reward, next_state, done = self.step_memory[memory_idx][idx]\n",
    "        return (\n",
    "            torch.tensor(state),\n",
    "            torch.tensor(action),\n",
    "            torch.tensor(reward, dtype=torch.float),\n",
    "            torch.tensor(next_state),\n",
    "            torch.tensor(done, dtype=torch.float32),\n",
    "        )\n",
    "    \n",
    "    def getMemoryLength(self, idx):\n",
    "        return len(self.step_memory[idx])\n",
    "    \n",
    "    def getAllMemoryLength(self):\n",
    "        return [len(memory) for memory in self.step_memory]\n",
    "    \n",
    "    def getNumMemory(self):\n",
    "        return len(self.step_memory)"
   ]
  },
  {
   "cell_type": "code",
   "execution_count": 7,
   "id": "f17a961b",
   "metadata": {
    "execution": {
     "iopub.execute_input": "2024-11-29T12:35:23.899387Z",
     "iopub.status.busy": "2024-11-29T12:35:23.899134Z",
     "iopub.status.idle": "2024-11-29T12:35:23.902735Z",
     "shell.execute_reply": "2024-11-29T12:35:23.902065Z"
    },
    "papermill": {
     "duration": 0.01328,
     "end_time": "2024-11-29T12:35:23.904317",
     "exception": false,
     "start_time": "2024-11-29T12:35:23.891037",
     "status": "completed"
    },
    "tags": []
   },
   "outputs": [],
   "source": [
    "train_memory = Memory(maxlen)"
   ]
  },
  {
   "cell_type": "markdown",
   "id": "0f408f25",
   "metadata": {
    "papermill": {
     "duration": 0.006838,
     "end_time": "2024-11-29T12:35:23.918227",
     "exception": false,
     "start_time": "2024-11-29T12:35:23.911389",
     "status": "completed"
    },
    "tags": []
   },
   "source": [
    "## Model"
   ]
  },
  {
   "cell_type": "code",
   "execution_count": 8,
   "id": "cc2a50c8",
   "metadata": {
    "execution": {
     "iopub.execute_input": "2024-11-29T12:35:23.944171Z",
     "iopub.status.busy": "2024-11-29T12:35:23.943536Z",
     "iopub.status.idle": "2024-11-29T12:35:23.950681Z",
     "shell.execute_reply": "2024-11-29T12:35:23.949873Z"
    },
    "papermill": {
     "duration": 0.018182,
     "end_time": "2024-11-29T12:35:23.952303",
     "exception": false,
     "start_time": "2024-11-29T12:35:23.934121",
     "status": "completed"
    },
    "tags": []
   },
   "outputs": [],
   "source": [
    "class QNetwork(nn.Module):\n",
    "    def __init__(self, observation_shape, action_shape, device='cpu'):\n",
    "        super().__init__()\n",
    "        self.observation_shape = observation_shape\n",
    "        self.action_shape = action_shape\n",
    "        self.device = device\n",
    "        \n",
    "        self.cnn = nn.Sequential(\n",
    "            nn.Conv2d(observation_shape[-1], observation_shape[-1], kernel_size=3),\n",
    "            nn.ReLU(),\n",
    "            nn.Conv2d(observation_shape[-1], observation_shape[-1], kernel_size=3),\n",
    "            nn.ReLU(),\n",
    "        )\n",
    "        \n",
    "        dummy_input = torch.randn(observation_shape).permute(2, 0, 1)\n",
    "        dummy_output = self.cnn(dummy_input)\n",
    "        flatten_dim = dummy_output.view(-1).shape[0]\n",
    "        self.network = nn.Sequential(\n",
    "            nn.Linear(flatten_dim, 120),\n",
    "            nn.ReLU(),\n",
    "            nn.Linear(120, 84),\n",
    "            nn.ReLU(),\n",
    "            nn.Linear(84, action_shape),\n",
    "        )\n",
    "\n",
    "    def forward(self, x):\n",
    "        assert len(x.shape) >= 3, \"only support magent input observation\"\n",
    "        x = self.cnn(x)\n",
    "        if len(x.shape) == 3:\n",
    "            batchsize = 1\n",
    "        else:\n",
    "            batchsize = x.shape[0]\n",
    "        x = x.reshape(batchsize, -1)\n",
    "        return self.network(x)"
   ]
  },
  {
   "cell_type": "markdown",
   "id": "a457dcbc",
   "metadata": {
    "papermill": {
     "duration": 0.006993,
     "end_time": "2024-11-29T12:35:23.966416",
     "exception": false,
     "start_time": "2024-11-29T12:35:23.959423",
     "status": "completed"
    },
    "tags": []
   },
   "source": [
    "## Trainer"
   ]
  },
  {
   "cell_type": "code",
   "execution_count": 9,
   "id": "d7befc14",
   "metadata": {
    "execution": {
     "iopub.execute_input": "2024-11-29T12:35:23.982120Z",
     "iopub.status.busy": "2024-11-29T12:35:23.981837Z",
     "iopub.status.idle": "2024-11-29T12:35:24.009530Z",
     "shell.execute_reply": "2024-11-29T12:35:24.008671Z"
    },
    "papermill": {
     "duration": 0.037929,
     "end_time": "2024-11-29T12:35:24.011239",
     "exception": false,
     "start_time": "2024-11-29T12:35:23.973310",
     "status": "completed"
    },
    "tags": []
   },
   "outputs": [],
   "source": [
    "class Trainer:\n",
    "    def __init__(\n",
    "        self, \n",
    "        policy_net, target_net, \n",
    "        action_dim, \n",
    "        lossfunc, optimizer, scheduler, \n",
    "        epsilon_max=1.0, epsilon_min=0.01, epsilon_beta=0.995, \n",
    "        weight_init=True, custom_weight_initializer=None, \n",
    "        device='cpu'\n",
    "    ):\n",
    "        \n",
    "        self.policy_net = policy_net.to(device)\n",
    "        self.target_net = target_net.to(device)\n",
    "        self.target_net.eval()\n",
    "\n",
    "        self.action_dim = action_dim\n",
    "        \n",
    "        self.lossfuncs = lossfunc\n",
    "        self.optimizer = optimizer\n",
    "        self.scheduler = scheduler\n",
    "        \n",
    "        self.epsilon_max = epsilon_max\n",
    "        self.epsilon_min = epsilon_min\n",
    "        self.epsilon_beta = epsilon_beta\n",
    "        self.epsilon = self.epsilon_max\n",
    "        \n",
    "        self.weight_init = weight_init\n",
    "        self.custom_weight_initializer = custom_weight_initializer\n",
    "\n",
    "        self.device = device\n",
    "        \n",
    "        self.save_best_model = False\n",
    "        \n",
    "        if self.weight_init:\n",
    "            if self.custom_weight_initializer:\n",
    "                self.policy_net.apply(self.custom_weight_initializer)\n",
    "            else:\n",
    "                self.policy_net.apply(self.xavier_init_weight)\n",
    "                \n",
    "    def xavier_init_weight(self, m):\n",
    "        if isinstance(m, nn.Conv2d) or isinstance(m, nn.ConvTranspose2d):\n",
    "            nn.init.xavier_uniform_(m.weight)\n",
    "            if torch.is_tensor(m.bias):\n",
    "                m.bias.data.fill_(0.01)\n",
    "    \n",
    "    def save_model(self, dirname='/kaggle/working/model_params', filename='full_model.pth', only_network=False):\n",
    "        if not os.path.isdir(dirname):\n",
    "            os.mkdir(dirname)\n",
    "        state_dicts = {\n",
    "            'network_params': self.policy_net.state_dict(),\n",
    "            'scheduler_params': self.scheduler.state_dict(),\n",
    "            'optimizer_params': self.optimizer.state_dict(),\n",
    "        }\n",
    "        if only_network:\n",
    "            return torch.save(self.policy_net.state_dict(), os.path.join(dirname, filename))\n",
    "        return torch.save(state_dicts, os.path.join(dirname, filename))\n",
    "    \n",
    "    def load_model(self, dirname='/kaggle/working/model_params', filename='full_model.pth'):\n",
    "        best_model_path = f'{dirname}/{filename}'\n",
    "        if os.path.exists(best_model_path):\n",
    "            try:\n",
    "                best_model_state = torch.load(best_model_path, weights_only=True, map_location=self.device)['network_params']\n",
    "            except:\n",
    "                best_model_state = torch.load(best_model_path, weights_only=True, map_location=self.device)\n",
    "            self.policy_net.load_state_dict(best_model_state)\n",
    "            print(f'Model is loaded from {best_model_path}')\n",
    "        else:\n",
    "            print(f'Model is not exist at {best_model_path}')\n",
    "\n",
    "    def epsilon_greedy_policy(self, observation, only_random=False):\n",
    "        if not only_random:\n",
    "            if np.random.rand() < self.epsilon:\n",
    "                return np.random.randint(low=0, high=self.action_dim)\n",
    "            else:\n",
    "                observation = torch.FloatTensor(observation).unsqueeze(0).to(self.device)\n",
    "                with torch.no_grad():\n",
    "                    return self.policy_net(observation).squeeze().argmax().item()\n",
    "        return np.random.randint(low=0, high=self.action_dim)\n",
    "                \n",
    "    def _train_policy_net(self, train_memory, batch_size, gamma):\n",
    "        # Tạo train loader\n",
    "        train_loader = DataLoader(train_memory, batch_size=batch_size, shuffle=True)\n",
    "        self.policy_net.train()\n",
    "\n",
    "        for observations, actions, rewards, next_observations, dones in train_loader:\n",
    "            self.policy_net.zero_grad()\n",
    "            \n",
    "            observations = observations.to(self.device)\n",
    "            actions = actions.unsqueeze(1).to(self.device)\n",
    "            rewards = rewards.unsqueeze(1).to(self.device)\n",
    "            next_observations = next_observations.to(self.device)\n",
    "            dones = dones.unsqueeze(1).to(self.device)\n",
    "            \n",
    "            # Tính giá trị Q mục tiêu\n",
    "            with torch.no_grad():\n",
    "                target_q_values = rewards + gamma * (1 - dones) * self.target_net(next_observations).max(1, keepdim=True)[0]\n",
    "            \n",
    "            # Tính giá trị Q hiện tại\n",
    "            current_q_values = self.policy_net(observations).gather(1, actions)\n",
    "            \n",
    "            # Compute loss\n",
    "            loss = self.lossfuncs(current_q_values, target_q_values)\n",
    "            \n",
    "            # Optimize the network\n",
    "            loss.backward()\n",
    "            self.optimizer.step()\n",
    "            self.scheduler.step()\n",
    "\n",
    "    def _eval_policy_net(self, env, eval_agent_color):\n",
    "        self.policy_net.eval()\n",
    "        total_reward = 0\n",
    "        env.reset()\n",
    "        with torch.no_grad():\n",
    "            T = 0\n",
    "            for agent in env.agent_iter():\n",
    "                T += 1\n",
    "                observation, reward, termination, truncation, info = env.last()\n",
    "                observation = np.transpose(observation, (2, 0, 1))\n",
    "                if eval_agent_color in agent:\n",
    "                    total_reward += reward\n",
    "                else:\n",
    "                    total_reward -= abs(reward)\n",
    "                if termination or truncation:\n",
    "                    action = None\n",
    "                else:\n",
    "                    observation = torch.FloatTensor(observation).unsqueeze(0).to(self.device)\n",
    "                    action = self.policy_net(observation).squeeze().argmax().item()\n",
    "                env.step(action)\n",
    "        return total_reward, T\n",
    "    \n",
    "    def train(self, \n",
    "              episodes, eval_agent_color, batch_size, gamma, env, train_memory, \n",
    "              update_tgt_net_frequence=10, update_tgt_net_rate=0.005, \n",
    "              detect_best_model_by='train', \n",
    "              save_at_end=False, save_only_network=False, name='full_model.pth',\n",
    "             ):\n",
    "        all_train_rewards = []\n",
    "        all_T_train = []\n",
    "        all_val_rewards = []\n",
    "        all_T_val = []\n",
    "        saved = []\n",
    "        max_reward = float('-inf')\n",
    "    \n",
    "        for episode in range(episodes):\n",
    "            total_train_reward = 0\n",
    "            avg_val_reward = 0\n",
    "            T = 0\n",
    "\n",
    "            prev_observations = {}\n",
    "            prev_actions = {}\n",
    "            memory_idx = {}\n",
    "            \n",
    "            env.reset()\n",
    "            \n",
    "            for idx, agent in enumerate(env.agent_iter()):\n",
    "                T += 1\n",
    "                prev_observation, reward, termination, truncation, _ = env.last()\n",
    "                prev_observation = np.transpose(prev_observation, (2, 0, 1))\n",
    "                \n",
    "                if eval_agent_color in agent:\n",
    "                    total_train_reward += reward\n",
    "                else:\n",
    "                    total_train_reward -= abs(reward)\n",
    "                    \n",
    "                memory_idx[agent] = 0\n",
    "                prev_action = self.epsilon_greedy_policy(prev_observation)\n",
    "                \n",
    "                prev_observations[agent] = prev_observation\n",
    "                prev_actions[agent] = prev_action\n",
    "                env.step(prev_action)     \n",
    "                \n",
    "                if (idx+1) % env.num_agents == 0:\n",
    "                    break\n",
    "                    \n",
    "            for agent in env.agent_iter():\n",
    "                T += 1\n",
    "                \n",
    "                # Từ trạng thái trước, thực hiện hành động để lấy trạng thái hiện tại\n",
    "                observation, reward, termination, truncation, _ = env.last()\n",
    "                observation = np.transpose(observation, (2, 0, 1))\n",
    "\n",
    "                # Đánh giá phần thưởng của trận đấu, giả sử ta là con eval_agent_color\n",
    "                if eval_agent_color in agent:\n",
    "                    total_train_reward += reward\n",
    "                else:\n",
    "                    total_train_reward -= abs(reward)\n",
    "\n",
    "                # Nếu agent chết rồi thì hành động chọn là None\n",
    "                if termination or truncation:\n",
    "                    action = None\n",
    "                else:\n",
    "                    action = self.epsilon_greedy_policy(observation)\n",
    "                \n",
    "                # Thêm bộ (S, A, R+, S+, terminal?) vào bộ nhớ để training\n",
    "                train_memory.push(\n",
    "                    memory_idx[agent],\n",
    "                    prev_observations[agent], \n",
    "                    prev_actions[agent], \n",
    "                    reward, \n",
    "                    observation, \n",
    "                    termination\n",
    "                )\n",
    "                \n",
    "                memory_idx[agent] += 1\n",
    "                prev_observations[agent] = observation\n",
    "                prev_actions[agent] = action\n",
    "                env.step(action)\n",
    "\n",
    "            # Training mô hình với memory hiện tại\n",
    "            self._train_policy_net(train_memory, batch_size, gamma)\n",
    "            \n",
    "            # Cập nhật lại mô hình mục tiêu theo chu kì\n",
    "            if episode % update_tgt_net_frequence == 0:\n",
    "                target_net_state_dict = self.target_net.state_dict()\n",
    "                policy_net_state_dict = self.policy_net.state_dict()\n",
    "                for key in policy_net_state_dict:\n",
    "                    target_net_state_dict[key] = policy_net_state_dict[key]*update_tgt_net_rate + target_net_state_dict[key]*(1-update_tgt_net_rate)\n",
    "                target_net.load_state_dict(target_net_state_dict)\n",
    "                \n",
    "            # Đánh giá model, phần thưởng thu được càng lớn thì càng tốt\n",
    "            avg_train_reward = total_train_reward / T # Đánh giá bằng phần thường trong train\n",
    "            total_val_reward, T_val = self._eval_policy_net(env, eval_agent_color)\n",
    "            avg_val_reward = total_val_reward / T_val # Đánh giá bằng phần thường trong eval\n",
    "\n",
    "            # Lưu lại model nếu kết quả tốt\n",
    "            if detect_best_model_by is not None:\n",
    "                if detect_best_model_by == 'train':\n",
    "                    model_reward = avg_train_reward\n",
    "                elif detect_best_model_by == 'val':\n",
    "                    model_reward = avg_val_reward\n",
    "                if model_reward > max_reward:\n",
    "                    max_reward = model_reward\n",
    "                    self.save_model(filename=name, only_network=save_only_network)\n",
    "                    self.save_best_model = True\n",
    "                    saved.append(1)\n",
    "                else:\n",
    "                    saved.append(0)\n",
    "            else:\n",
    "                saved.append(0)\n",
    "        \n",
    "            # Cập nhật lại epsilon, do càng train thì mô hình càng tốt, từ đó ít cần khám phá hơn\n",
    "            self.epsilon = max(self.epsilon_min, self.epsilon * self.epsilon_beta)\n",
    "\n",
    "            # Logging\n",
    "            print(f\"Episode {episode + 1}, Avg Train Reward: {avg_train_reward}, T Train: {T}, Avg Val Reward: {avg_val_reward}, T Val: {T_val}\")\n",
    "\n",
    "            all_train_rewards.append(total_train_reward)\n",
    "            all_val_rewards.append(total_val_reward)\n",
    "            all_T_train.append(T)\n",
    "            all_T_val.append(T_val)\n",
    "\n",
    "        if not self.save_best_model or save_at_end:\n",
    "            self.save_model(filename=name, only_network=save_only_network)\n",
    "            self.save_best_model = True\n",
    "            saved[-1] = 1\n",
    "        return all_train_rewards, all_T_train, all_val_rewards, all_T_val, saved"
   ]
  },
  {
   "cell_type": "markdown",
   "id": "288aa0ff",
   "metadata": {
    "papermill": {
     "duration": 0.006842,
     "end_time": "2024-11-29T12:35:24.025631",
     "exception": false,
     "start_time": "2024-11-29T12:35:24.018789",
     "status": "completed"
    },
    "tags": []
   },
   "source": [
    "## Training Model"
   ]
  },
  {
   "cell_type": "code",
   "execution_count": 10,
   "id": "bc1c2c61",
   "metadata": {
    "execution": {
     "iopub.execute_input": "2024-11-29T12:35:24.041537Z",
     "iopub.status.busy": "2024-11-29T12:35:24.040883Z",
     "iopub.status.idle": "2024-11-29T12:35:24.314592Z",
     "shell.execute_reply": "2024-11-29T12:35:24.313707Z"
    },
    "papermill": {
     "duration": 0.284104,
     "end_time": "2024-11-29T12:35:24.316848",
     "exception": false,
     "start_time": "2024-11-29T12:35:24.032744",
     "status": "completed"
    },
    "tags": []
   },
   "outputs": [
    {
     "data": {
      "text/plain": [
       "<All keys matched successfully>"
      ]
     },
     "execution_count": 10,
     "metadata": {},
     "output_type": "execute_result"
    }
   ],
   "source": [
    "policy_net = QNetwork(env.observation_space(\"red_0\").shape, env.action_space(\"red_0\").n, device=device).to(device)\n",
    "target_net = QNetwork(env.observation_space(\"red_0\").shape, env.action_space(\"red_0\").n, device=device).to(device)\n",
    "target_net.load_state_dict(policy_net.state_dict())"
   ]
  },
  {
   "cell_type": "code",
   "execution_count": 11,
   "id": "9362f10c",
   "metadata": {
    "execution": {
     "iopub.execute_input": "2024-11-29T12:35:24.337935Z",
     "iopub.status.busy": "2024-11-29T12:35:24.337624Z",
     "iopub.status.idle": "2024-11-29T12:35:25.477402Z",
     "shell.execute_reply": "2024-11-29T12:35:25.476452Z"
    },
    "papermill": {
     "duration": 1.152042,
     "end_time": "2024-11-29T12:35:25.479407",
     "exception": false,
     "start_time": "2024-11-29T12:35:24.327365",
     "status": "completed"
    },
    "tags": []
   },
   "outputs": [],
   "source": [
    "loss_function = nn.MSELoss()\n",
    "optimizer = torch.optim.AdamW(policy_net.parameters(), lr=learning_rate, weight_decay=weight_decay)\n",
    "lr_scheduler = torch.optim.lr_scheduler.CosineAnnealingLR(optimizer, T_max=episodes, eta_min=eta_min)"
   ]
  },
  {
   "cell_type": "code",
   "execution_count": 12,
   "id": "1cbf3c97",
   "metadata": {
    "execution": {
     "iopub.execute_input": "2024-11-29T12:35:25.495860Z",
     "iopub.status.busy": "2024-11-29T12:35:25.495309Z",
     "iopub.status.idle": "2024-11-29T12:35:25.539531Z",
     "shell.execute_reply": "2024-11-29T12:35:25.538829Z"
    },
    "papermill": {
     "duration": 0.054528,
     "end_time": "2024-11-29T12:35:25.541611",
     "exception": false,
     "start_time": "2024-11-29T12:35:25.487083",
     "status": "completed"
    },
    "tags": []
   },
   "outputs": [],
   "source": [
    "'''\n",
    "policy_net, target_net, \n",
    "action_dim, \n",
    "lossfunc, optimizer, scheduler, \n",
    "epsilon_max=1.0, epsilon_min=0.01, epsilon_beta=0.995, \n",
    "weight_init=True, custom_weight_initializer=None, \n",
    "device='cpu'\n",
    "'''\n",
    "trainer = Trainer(\n",
    "    policy_net, target_net, \n",
    "    env.action_space(\"red_0\").n, \n",
    "    loss_function, optimizer, lr_scheduler, \n",
    "    epsilon_max, epsilon_min, epsilon_beta, \n",
    "    weight_init, custom_weight_initializer, \n",
    "    device=device\n",
    ")"
   ]
  },
  {
   "cell_type": "code",
   "execution_count": 13,
   "id": "47b2de27",
   "metadata": {
    "execution": {
     "iopub.execute_input": "2024-11-29T12:35:25.557715Z",
     "iopub.status.busy": "2024-11-29T12:35:25.557379Z",
     "iopub.status.idle": "2024-11-29T12:36:43.365957Z",
     "shell.execute_reply": "2024-11-29T12:36:43.365129Z"
    },
    "papermill": {
     "duration": 77.825883,
     "end_time": "2024-11-29T12:36:43.375148",
     "exception": false,
     "start_time": "2024-11-29T12:35:25.549265",
     "status": "completed"
    },
    "tags": []
   },
   "outputs": [
    {
     "name": "stdout",
     "output_type": "stream",
     "text": [
      "Val Reward:  (-17010.00067591667, 162162)\n",
      "--- 77.80414819717407 seconds ---"
     ]
    }
   ],
   "source": [
    "start_time = time.time()\n",
    "val_reward = trainer._eval_policy_net(env, eval_agent_color)\n",
    "print('Val Reward: ', val_reward)\n",
    "print(\"--- %s seconds ---\" % (time.time() - start_time))"
   ]
  },
  {
   "cell_type": "code",
   "execution_count": 14,
   "id": "6a4dff73",
   "metadata": {
    "execution": {
     "iopub.execute_input": "2024-11-29T12:36:43.390508Z",
     "iopub.status.busy": "2024-11-29T12:36:43.390245Z",
     "iopub.status.idle": "2024-11-29T15:18:25.767151Z",
     "shell.execute_reply": "2024-11-29T15:18:25.766309Z"
    },
    "papermill": {
     "duration": 9702.396059,
     "end_time": "2024-11-29T15:18:25.778310",
     "exception": false,
     "start_time": "2024-11-29T12:36:43.382251",
     "status": "completed"
    },
    "tags": []
   },
   "outputs": [
    {
     "name": "stdout",
     "output_type": "stream",
     "text": [
      "Episode 1, Avg Train Reward: -0.041741715474237356, T Train: 158611, Avg Val Reward: -0.004972188194183559, T Val: 162162\n",
      "Episode 2, Avg Train Reward: -0.03587718555820067, T Train: 133387, Avg Val Reward: -0.008895230689083695, T Val: 60094\n",
      "Episode 3, Avg Train Reward: -0.032295088366033044, T Train: 74605, Avg Val Reward: -0.005072948532881513, T Val: 144965\n",
      "Episode 4, Avg Train Reward: -0.026236557229249228, T Train: 102373, Avg Val Reward: -0.011679484994605308, T Val: 157459\n",
      "Episode 5, Avg Train Reward: -0.02380059915997652, T Train: 52126, Avg Val Reward: -0.004995004883357933, T Val: 162162\n",
      "Episode 6, Avg Train Reward: -0.018611133878574458, T Train: 124256, Avg Val Reward: -0.004881929703566417, T Val: 136656\n",
      "Episode 7, Avg Train Reward: -0.01324869879087783, T Train: 65497, Avg Val Reward: -0.005984777943485729, T Val: 118316\n",
      "Episode 8, Avg Train Reward: -0.016962402982994867, T Train: 75963, Avg Val Reward: -0.004655222567636051, T Val: 61779\n",
      "Episode 9, Avg Train Reward: -0.014071505795548259, T Train: 34319, Avg Val Reward: -0.005716878578282988, T Val: 35536\n",
      "Episode 10, Avg Train Reward: -0.023159176687937745, T Train: 10881, Avg Val Reward: -0.007162581771946833, T Val: 56347\n",
      "Episode 11, Avg Train Reward: -0.010516173558260894, T Train: 27607, Avg Val Reward: -0.004484231775311298, T Val: 66590\n",
      "Episode 12, Avg Train Reward: -0.007529469697122134, T Train: 50815, Avg Val Reward: -0.007859407536005955, T Val: 87366\n",
      "Episode 13, Avg Train Reward: -0.009820833819576808, T Train: 49535, Avg Val Reward: -0.004995004883357933, T Val: 162162\n",
      "Episode 14, Avg Train Reward: -0.007634233412367748, T Train: 124913, Avg Val Reward: -0.021778484946933074, T Val: 9584\n",
      "Episode 15, Avg Train Reward: -0.023907566922160003, T Train: 10797, Avg Val Reward: -0.022737294008635913, T Val: 8618\n",
      "Episode 16, Avg Train Reward: -0.03903487754236367, T Train: 7512, Avg Val Reward: -0.010585564453081918, T Val: 36341\n",
      "Episode 17, Avg Train Reward: -0.011533113492660133, T Train: 32147, Avg Val Reward: -0.016411545011167598, T Val: 18207\n",
      "Episode 18, Avg Train Reward: -0.01702421298927567, T Train: 18296, Avg Val Reward: -0.005393794462465735, T Val: 49988\n",
      "Episode 19, Avg Train Reward: -0.004676640543998314, T Train: 52604, Avg Val Reward: -0.004257135395891392, T Val: 81354\n",
      "Episode 20, Avg Train Reward: -0.005848820711077035, T Train: 58381, Avg Val Reward: -0.0016631757867099268, T Val: 46312\n",
      "Episode 21, Avg Train Reward: 0.004080056166068854, T Train: 20648, Avg Val Reward: 0.019928556399339867, T Val: 9588\n",
      "Episode 22, Avg Train Reward: 0.010870415956355009, T Train: 11753, Avg Val Reward: -0.004995004883357933, T Val: 162162\n",
      "Episode 23, Avg Train Reward: -0.006028772798563111, T Train: 56164, Avg Val Reward: -0.003622698071634718, T Val: 41977\n",
      "Episode 24, Avg Train Reward: -0.006498441708102163, T Train: 24065, Avg Val Reward: -0.005036749659238713, T Val: 41769\n",
      "Episode 25, Avg Train Reward: -0.007306467035289259, T Train: 39554, Avg Val Reward: -0.004933210898003489, T Val: 21785\n",
      "Episode 26, Avg Train Reward: -0.03164986589059593, T Train: 9325, Avg Val Reward: -0.004960009964291469, T Val: 63641\n",
      "Episode 27, Avg Train Reward: -0.00556251281378696, T Train: 63003, Avg Val Reward: -0.004842334930971219, T Val: 120255\n",
      "Episode 28, Avg Train Reward: -0.005099295233287302, T Train: 118636, Avg Val Reward: -0.03261916964400325, T Val: 7804\n",
      "Episode 29, Avg Train Reward: -0.03688675598573747, T Train: 7762, Avg Val Reward: -0.0018435813556164692, T Val: 37259\n",
      "Episode 30, Avg Train Reward: 0.0004013717534378025, T Train: 15746, Avg Val Reward: 0.019905460822760745, T Val: 8515\n",
      "Episode 31, Avg Train Reward: 0.010181124800384697, T Train: 10490, Avg Val Reward: -0.027638907103181377, T Val: 7613\n",
      "Episode 32, Avg Train Reward: -0.03452203782492823, T Train: 6988, Avg Val Reward: -0.005715174801984152, T Val: 25707\n",
      "Episode 33, Avg Train Reward: -0.015045778621685378, T Train: 12342, Avg Val Reward: -0.03583113269374302, T Val: 7195\n",
      "Episode 34, Avg Train Reward: -0.030646436410292216, T Train: 8601, Avg Val Reward: -0.0011139378942855212, T Val: 11006\n",
      "Episode 35, Avg Train Reward: -0.011530807925887482, T Train: 16684, Avg Val Reward: -0.013521510928626928, T Val: 9716\n",
      "Episode 36, Avg Train Reward: -0.0038679150702018083, T Train: 19972, Avg Val Reward: 0.014006803712368482, T Val: 12787\n",
      "Episode 37, Avg Train Reward: 0.02142214107170163, T Train: 9331, Avg Val Reward: 0.019049948061437928, T Val: 8689\n",
      "Episode 38, Avg Train Reward: 0.003162462364738254, T Train: 17284, Avg Val Reward: 0.026221369367507345, T Val: 8601\n",
      "Episode 39, Avg Train Reward: 0.008704782843842065, T Train: 10809, Avg Val Reward: 0.018162642713053935, T Val: 7870\n",
      "Episode 40, Avg Train Reward: 0.01449409093714089, T Train: 8885, Avg Val Reward: -0.004419438128017923, T Val: 18973\n",
      "Episode 41, Avg Train Reward: 0.0018764470253136599, T Train: 19004, Avg Val Reward: 0.0026931162135516414, T Val: 9036\n",
      "Episode 42, Avg Train Reward: 0.003418198517244559, T Train: 9682, Avg Val Reward: -0.036149598916057867, T Val: 8603\n",
      "Episode 43, Avg Train Reward: -0.004194188387734597, T Train: 24193, Avg Val Reward: -0.00993240900563667, T Val: 14425\n",
      "Episode 44, Avg Train Reward: -0.0014558294858198395, T Train: 14727, Avg Val Reward: 0.022042966249336944, T Val: 8495\n",
      "Episode 45, Avg Train Reward: 0.011934262344693802, T Train: 9112, Avg Val Reward: 0.02382374163270768, T Val: 8306\n",
      "--- 9702.372458219528 seconds ---"
     ]
    }
   ],
   "source": [
    "# episodes, batch_size, gamma, env, train_memory, update_tgt_net_every=10, print_every=100, eval_episodes=20\n",
    "start_time = time.time()\n",
    "all_train_rewards, all_T_train, all_val_rewards, all_T_val, saved = trainer.train(\n",
    "    episodes, eval_agent_color, batch_size, gamma, env, train_memory, \n",
    "    update_tgt_net_frequence, update_tgt_net_rate, \n",
    "    detect_best_model_by=detect_best_model_by, \n",
    "    save_at_end=save_at_end, save_only_network=save_only_network, name=name\n",
    ")\n",
    "print(\"--- %s seconds ---\" % (time.time() - start_time))"
   ]
  },
  {
   "cell_type": "code",
   "execution_count": 15,
   "id": "fc77c0bf",
   "metadata": {
    "execution": {
     "iopub.execute_input": "2024-11-29T15:18:25.797478Z",
     "iopub.status.busy": "2024-11-29T15:18:25.797222Z",
     "iopub.status.idle": "2024-11-29T15:18:29.223899Z",
     "shell.execute_reply": "2024-11-29T15:18:29.223033Z"
    },
    "papermill": {
     "duration": 3.438431,
     "end_time": "2024-11-29T15:18:29.225713",
     "exception": false,
     "start_time": "2024-11-29T15:18:25.787282",
     "status": "completed"
    },
    "tags": []
   },
   "outputs": [
    {
     "name": "stdout",
     "output_type": "stream",
     "text": [
      "Val Reward:  (156.80499822087586, 7352)\n",
      "--- 3.422621965408325 seconds ---"
     ]
    }
   ],
   "source": [
    "start_time = time.time()\n",
    "val_reward = trainer._eval_policy_net(env, eval_agent_color)\n",
    "print('Val Reward: ', val_reward)\n",
    "print(\"--- %s seconds ---\" % (time.time() - start_time))"
   ]
  },
  {
   "cell_type": "code",
   "execution_count": 16,
   "id": "924212fb",
   "metadata": {
    "execution": {
     "iopub.execute_input": "2024-11-29T15:18:29.245534Z",
     "iopub.status.busy": "2024-11-29T15:18:29.245252Z",
     "iopub.status.idle": "2024-11-29T15:18:29.259153Z",
     "shell.execute_reply": "2024-11-29T15:18:29.258440Z"
    },
    "papermill": {
     "duration": 0.025807,
     "end_time": "2024-11-29T15:18:29.260902",
     "exception": false,
     "start_time": "2024-11-29T15:18:29.235095",
     "status": "completed"
    },
    "scrolled": true,
    "tags": []
   },
   "outputs": [
    {
     "name": "stdout",
     "output_type": "stream",
     "text": [
      "Model is loaded from /kaggle/working/model_params/256.pth"
     ]
    },
    {
     "data": {
      "text/plain": [
       "QNetwork(\n",
       "  (cnn): Sequential(\n",
       "    (0): Conv2d(5, 5, kernel_size=(3, 3), stride=(1, 1))\n",
       "    (1): ReLU()\n",
       "    (2): Conv2d(5, 5, kernel_size=(3, 3), stride=(1, 1))\n",
       "    (3): ReLU()\n",
       "  )\n",
       "  (network): Sequential(\n",
       "    (0): Linear(in_features=405, out_features=120, bias=True)\n",
       "    (1): ReLU()\n",
       "    (2): Linear(in_features=120, out_features=84, bias=True)\n",
       "    (3): ReLU()\n",
       "    (4): Linear(in_features=84, out_features=21, bias=True)\n",
       "  )\n",
       ")"
      ]
     },
     "execution_count": 16,
     "metadata": {},
     "output_type": "execute_result"
    }
   ],
   "source": [
    "if trainer.save_best_model:\n",
    "    trainer.load_model(filename=name)\n",
    "trainer.policy_net"
   ]
  },
  {
   "cell_type": "markdown",
   "id": "9f707f21",
   "metadata": {
    "papermill": {
     "duration": 0.009061,
     "end_time": "2024-11-29T15:18:29.279130",
     "exception": false,
     "start_time": "2024-11-29T15:18:29.270069",
     "status": "completed"
    },
    "tags": []
   },
   "source": [
    "## Visualize"
   ]
  },
  {
   "cell_type": "code",
   "execution_count": 17,
   "id": "e1566caa",
   "metadata": {
    "execution": {
     "iopub.execute_input": "2024-11-29T15:18:29.298948Z",
     "iopub.status.busy": "2024-11-29T15:18:29.298686Z",
     "iopub.status.idle": "2024-11-29T15:18:29.307917Z",
     "shell.execute_reply": "2024-11-29T15:18:29.307209Z"
    },
    "papermill": {
     "duration": 0.020724,
     "end_time": "2024-11-29T15:18:29.309321",
     "exception": false,
     "start_time": "2024-11-29T15:18:29.288597",
     "status": "completed"
    },
    "tags": []
   },
   "outputs": [],
   "source": [
    "training_log = {\n",
    "    'Episode': list(range(len(all_train_rewards))),\n",
    "    'Train Reward': all_train_rewards, \n",
    "    'Eval Reward': all_val_rewards, \n",
    "    'T Train': all_T_train, \n",
    "    'T Eval': all_T_val, \n",
    "    'Saved': saved\n",
    "}\n",
    "df = pd.DataFrame(training_log)"
   ]
  },
  {
   "cell_type": "code",
   "execution_count": 18,
   "id": "a30a0ccd",
   "metadata": {
    "execution": {
     "iopub.execute_input": "2024-11-29T15:18:29.328580Z",
     "iopub.status.busy": "2024-11-29T15:18:29.328325Z",
     "iopub.status.idle": "2024-11-29T15:18:29.865148Z",
     "shell.execute_reply": "2024-11-29T15:18:29.864376Z"
    },
    "papermill": {
     "duration": 0.54881,
     "end_time": "2024-11-29T15:18:29.867270",
     "exception": false,
     "start_time": "2024-11-29T15:18:29.318460",
     "status": "completed"
    },
    "tags": []
   },
   "outputs": [
    {
     "data": {
      "image/png": "[encoded data removed]",
      "text/plain": [
       "<Figure size 600x600 with 1 Axes>"
      ]
     },
     "metadata": {},
     "output_type": "display_data"
    }
   ],
   "source": [
    "plt.figure(figsize=(6, 6))\n",
    "\n",
    "sns.lineplot(data=df, x='Episode', y='Train Reward', label='Train Reward', color='blue') # Biểu đồ đường Train Reward\n",
    "sns.lineplot(data=df, x='Episode', y='Eval Reward', label='Eval Reward', color='orange') # Biểu đồ đường Eval Reward\n",
    "\n",
    "dfy = 'Eval Reward' if detect_best_model_by == 'val' else 'Train Reward'\n",
    "saved_points = df[df['Saved'] == 1]\n",
    "sns.scatterplot(data=saved_points, x='Episode', y=dfy, color='red', label='Saved Points', s=100, zorder=5) # Đánh dấu các điểm Saved = 1\n",
    "\n",
    "# Thêm tiêu đề và chú thích\n",
    "plt.title('Training and Evaluation Rewards', fontsize=14)\n",
    "plt.xlabel('Episode', fontsize=12)\n",
    "plt.ylabel('Reward', fontsize=12)\n",
    "plt.legend()\n",
    "plt.grid(True)\n",
    "\n",
    "# Hiển thị biểu đồ\n",
    "plt.show()"
   ]
  },
  {
   "cell_type": "code",
   "execution_count": 19,
   "id": "72e14ad3",
   "metadata": {
    "execution": {
     "iopub.execute_input": "2024-11-29T15:18:29.888968Z",
     "iopub.status.busy": "2024-11-29T15:18:29.888724Z",
     "iopub.status.idle": "2024-11-29T15:18:30.176747Z",
     "shell.execute_reply": "2024-11-29T15:18:30.175918Z"
    },
    "papermill": {
     "duration": 0.300331,
     "end_time": "2024-11-29T15:18:30.178318",
     "exception": false,
     "start_time": "2024-11-29T15:18:29.877987",
     "status": "completed"
    },
    "tags": []
   },
   "outputs": [
    {
     "data": {
      "image/png": "[encoded data removed]",
      "text/plain": [
       "<Figure size 600x600 with 1 Axes>"
      ]
     },
     "metadata": {},
     "output_type": "display_data"
    }
   ],
   "source": [
    "plt.figure(figsize=(6, 6))\n",
    "\n",
    "sns.lineplot(data=df, x='Episode', y='T Train', label='T Train') # Biểu đồ đường T Train\n",
    "sns.lineplot(data=df, x='Episode', y='T Eval', label='T Eval') # Biểu đồ đường T Eval\n",
    "\n",
    "# Thêm tiêu đề và chú thích\n",
    "plt.title('Training and Evaluation Step', fontsize=14)\n",
    "plt.xlabel('Episode', fontsize=12)\n",
    "plt.ylabel('Step', fontsize=12)\n",
    "plt.legend()\n",
    "plt.grid(True)\n",
    "\n",
    "# Hiển thị biểu đồ\n",
    "plt.show()"
   ]
  },
  {
   "cell_type": "markdown",
   "id": "e818b28b",
   "metadata": {
    "papermill": {
     "duration": 0.010658,
     "end_time": "2024-11-29T15:18:30.200473",
     "exception": false,
     "start_time": "2024-11-29T15:18:30.189815",
     "status": "completed"
    },
    "tags": []
   },
   "source": [
    "## Make Result Video"
   ]
  },
  {
   "cell_type": "code",
   "execution_count": 20,
   "id": "59110c4d",
   "metadata": {
    "execution": {
     "iopub.execute_input": "2024-11-29T15:18:30.223364Z",
     "iopub.status.busy": "2024-11-29T15:18:30.223098Z",
     "iopub.status.idle": "2024-11-29T15:18:30.230466Z",
     "shell.execute_reply": "2024-11-29T15:18:30.229647Z"
    },
    "papermill": {
     "duration": 0.020868,
     "end_time": "2024-11-29T15:18:30.232094",
     "exception": false,
     "start_time": "2024-11-29T15:18:30.211226",
     "status": "completed"
    },
    "tags": []
   },
   "outputs": [],
   "source": [
    "def make_battle_video(env, red_model, blue_model, vid_dir, fps=24, name='result', device='cpu'):\n",
    "    frames = []\n",
    "    env.reset()\n",
    "    add_frame = True\n",
    "    for agent in env.agent_iter():\n",
    "        observation, reward, termination, truncation, info = env.last()\n",
    "        observation = torch.Tensor(observation).float().permute([2, 0, 1]).unsqueeze(0).to(device)\n",
    "    \n",
    "        if termination or truncation:\n",
    "            action = None\n",
    "        else:\n",
    "            agent_handle = agent.split(\"_\")[0]\n",
    "            with torch.no_grad():\n",
    "                if agent_handle == \"blue\":\n",
    "                    q_values = blue_model(observation)\n",
    "                else:\n",
    "                    q_values = red_model(observation)\n",
    "            action = torch.argmax(q_values, dim=1).cpu().numpy()[0]\n",
    "        env.step(action)\n",
    "    \n",
    "        if 'red' in agent:\n",
    "            if add_frame:\n",
    "                frames.append(env.render())\n",
    "                add_frame = False\n",
    "        else:\n",
    "            add_frame = True\n",
    "    frames.append(env.render())\n",
    "    \n",
    "    height, width, _ = frames[0].shape\n",
    "    out = cv2.VideoWriter(\n",
    "        os.path.join(vid_dir, f\"{name}.mp4\"),\n",
    "        cv2.VideoWriter_fourcc(*\"mp4v\"),\n",
    "        fps,\n",
    "        (width, height),\n",
    "    )\n",
    "    for frame in frames:\n",
    "        frame_bgr = cv2.cvtColor(frame, cv2.COLOR_RGB2BGR)\n",
    "        out.write(frame_bgr)\n",
    "    out.release()\n",
    "    print(\"Done recording pretrained agents\")"
   ]
  },
  {
   "cell_type": "code",
   "execution_count": 21,
   "id": "89368504",
   "metadata": {
    "execution": {
     "iopub.execute_input": "2024-11-29T15:18:30.254430Z",
     "iopub.status.busy": "2024-11-29T15:18:30.254183Z",
     "iopub.status.idle": "2024-11-29T15:18:35.461527Z",
     "shell.execute_reply": "2024-11-29T15:18:35.460561Z"
    },
    "papermill": {
     "duration": 5.22036,
     "end_time": "2024-11-29T15:18:35.463169",
     "exception": false,
     "start_time": "2024-11-29T15:18:30.242809",
     "status": "completed"
    },
    "tags": []
   },
   "outputs": [
    {
     "name": "stdout",
     "output_type": "stream",
     "text": [
      "Done recording pretrained agents"
     ]
    }
   ],
   "source": [
    "make_battle_video(env, trainer.policy_net, trainer.policy_net, vid_dir, fps=fps, name=video_name, device=device)"
   ]
  }
 ],
 "metadata": {
  "kaggle": {
   "accelerator": "gpu",
   "dataSources": [],
   "dockerImageVersionId": 30787,
   "isGpuEnabled": true,
   "isInternetEnabled": true,
   "language": "python",
   "sourceType": "notebook"
  },
  "kernelspec": {
   "display_name": "Python 3",
   "language": "python",
   "name": "python3"
  },
  "language_info": {
   "codemirror_mode": {
    "name": "ipython",
    "version": 3
   },
   "file_extension": ".py",
   "mimetype": "text/x-python",
   "name": "python",
   "nbconvert_exporter": "python",
   "pygments_lexer": "ipython3",
   "version": "3.10.14"
  },
  "papermill": {
   "default_parameters": {},
   "duration": 9835.268821,
   "end_time": "2024-11-29T15:18:37.899348",
   "environment_variables": {},
   "exception": null,
   "input_path": "__notebook__.ipynb",
   "output_path": "__notebook__.ipynb",
   "parameters": {},
   "start_time": "2024-11-29T12:34:42.630527",
   "version": "2.6.0"
  }
 },
 "nbformat": 4,
 "nbformat_minor": 5
}
