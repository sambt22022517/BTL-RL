{
 "cells": [
  {
   "cell_type": "code",
   "execution_count": 1,
   "id": "9d48c03b",
   "metadata": {
    "_cell_guid": "b1076dfc-b9ad-4769-8c92-a6c4dae69d19",
    "_uuid": "8f2839f25d086af736a60e9eeb907d3b93b6e0e5",
    "execution": {
     "iopub.execute_input": "2024-12-10T10:24:26.192106Z",
     "iopub.status.busy": "2024-12-10T10:24:26.191301Z",
     "iopub.status.idle": "2024-12-10T10:24:26.904697Z",
     "shell.execute_reply": "2024-12-10T10:24:26.903749Z"
    },
    "papermill": {
     "duration": 0.722065,
     "end_time": "2024-12-10T10:24:26.906543",
     "exception": false,
     "start_time": "2024-12-10T10:24:26.184478",
     "status": "completed"
    },
    "tags": []
   },
   "outputs": [
    {
     "name": "stdout",
     "output_type": "stream",
     "text": [
      "/kaggle/input/\n"
     ]
    }
   ],
   "source": [
    "# This Python 3 environment comes with many helpful analytics libraries installed\n",
    "# It is defined by the kaggle/python Docker image: https://github.com/kaggle/docker-python\n",
    "# For example, here's several helpful packages to load\n",
    "\n",
    "import numpy as np # linear algebra\n",
    "import pandas as pd # data processing, CSV file I/O (e.g. pd.read_csv)\n",
    "\n",
    "# Input data files are available in the read-only \"../input/\" directory\n",
    "# For example, running this (by clicking run or pressing Shift+Enter) will list all files under the input directory\n",
    "\n",
    "import os\n",
    "for dirname, _, filenames in os.walk('/kaggle/input'):\n",
    "    print(os.path.join(dirname, ''))\n",
    "\n",
    "# You can write up to 20GB to the current directory (/kaggle/working/) that gets preserved as output when you create a version using \"Save & Run All\" \n",
    "# You can also write temporary files to /kaggle/temp/, but they won't be saved outside of the current session"
   ]
  },
  {
   "cell_type": "code",
   "execution_count": 2,
   "id": "bbb5075e",
   "metadata": {
    "execution": {
     "iopub.execute_input": "2024-12-10T10:24:26.918705Z",
     "iopub.status.busy": "2024-12-10T10:24:26.918313Z",
     "iopub.status.idle": "2024-12-10T10:25:00.791633Z",
     "shell.execute_reply": "2024-12-10T10:25:00.790734Z"
    },
    "papermill": {
     "duration": 33.882075,
     "end_time": "2024-12-10T10:25:00.793633",
     "exception": false,
     "start_time": "2024-12-10T10:24:26.911558",
     "status": "completed"
    },
    "scrolled": true,
    "tags": []
   },
   "outputs": [
    {
     "name": "stdout",
     "output_type": "stream",
     "text": [
      "Collecting git+https://github.com/Farama-Foundation/MAgent2\r\n",
      "  Cloning https://github.com/Farama-Foundation/MAgent2 to /tmp/pip-req-build-8d3cssph\r\n",
      "  Running command git clone --filter=blob:none --quiet https://github.com/Farama-Foundation/MAgent2 /tmp/pip-req-build-8d3cssph\r\n",
      "  Resolved https://github.com/Farama-Foundation/MAgent2 to commit b2ddd49445368cf85d4d4e1edcddae2e28aa1406\r\n",
      "  Installing build dependencies ... \u001b[?25l-\b \b\\\b \b|\b \b/\b \b-\b \b\\\b \b|\b \bdone\r\n",
      "\u001b[?25h  Getting requirements to build wheel ... \u001b[?25l-\b \bdone\r\n",
      "\u001b[?25h  Preparing metadata (pyproject.toml) ... \u001b[?25l-\b \bdone\r\n",
      "\u001b[?25hRequirement already satisfied: numpy<2.0,>=1.21.0 in /opt/conda/lib/python3.10/site-packages (from magent2==0.3.3) (1.26.4)\r\n",
      "Collecting pygame>=2.1.0 (from magent2==0.3.3)\r\n",
      "  Downloading pygame-2.6.1-cp310-cp310-manylinux_2_17_x86_64.manylinux2014_x86_64.whl.metadata (12 kB)\r\n",
      "Requirement already satisfied: pettingzoo>=1.23.1 in /opt/conda/lib/python3.10/site-packages (from magent2==0.3.3) (1.24.0)\r\n",
      "Requirement already satisfied: gymnasium>=0.28.0 in /opt/conda/lib/python3.10/site-packages (from pettingzoo>=1.23.1->magent2==0.3.3) (0.29.0)\r\n",
      "Requirement already satisfied: cloudpickle>=1.2.0 in /opt/conda/lib/python3.10/site-packages (from gymnasium>=0.28.0->pettingzoo>=1.23.1->magent2==0.3.3) (3.0.0)\r\n",
      "Requirement already satisfied: typing-extensions>=4.3.0 in /opt/conda/lib/python3.10/site-packages (from gymnasium>=0.28.0->pettingzoo>=1.23.1->magent2==0.3.3) (4.12.2)\r\n",
      "Requirement already satisfied: farama-notifications>=0.0.1 in /opt/conda/lib/python3.10/site-packages (from gymnasium>=0.28.0->pettingzoo>=1.23.1->magent2==0.3.3) (0.0.4)\r\n",
      "Downloading pygame-2.6.1-cp310-cp310-manylinux_2_17_x86_64.manylinux2014_x86_64.whl (14.0 MB)\r\n",
      "\u001b[2K   \u001b[90m━━━━━━━━━━━━━━━━━━━━━━━━━━━━━━━━━━━━━━━━\u001b[0m \u001b[32m14.0/14.0 MB\u001b[0m \u001b[31m101.2 MB/s\u001b[0m eta \u001b[36m0:00:00\u001b[0m\r\n",
      "\u001b[?25hBuilding wheels for collected packages: magent2\r\n",
      "  Building wheel for magent2 (pyproject.toml) ... \u001b[?25l-\b \b\\\b \b|\b \b/\b \b-\b \b\\\b \b|\b \b/\b \b-\b \b\\\b \b|\b \b/\b \b-\b \b\\\b \b|\b \b/\b \b-\b \b\\\b \b|\b \b/\b \b-\b \b\\\b \b|\b \b/\b \b-\b \b\\\b \b|\b \b/\b \b-\b \b\\\b \b|\b \bdone\r\n",
      "\u001b[?25h  Created wheel for magent2: filename=magent2-0.3.3-cp310-cp310-linux_x86_64.whl size=1696102 sha256=78c2371abf8516118b499801f190126b5e73a8590d941861afff907156182514\r\n",
      "  Stored in directory: /tmp/pip-ephem-wheel-cache-4jhhzki3/wheels/e4/8e/bf/51a30bc4038546e23b81c9fb513fe6a8fd916e5a9c5f4291d5\r\n",
      "Successfully built magent2\r\n",
      "Installing collected packages: pygame, magent2\r\n",
      "Successfully installed magent2-0.3.3 pygame-2.6.1\r\n",
      "Cloning into 'BTL-RL'...\r\n",
      "remote: Enumerating objects: 50, done.\u001b[K\r\n",
      "remote: Counting objects: 100% (50/50), done.\u001b[K\r\n",
      "remote: Compressing objects: 100% (39/39), done.\u001b[K\r\n",
      "remote: Total 50 (delta 11), reused 36 (delta 6), pack-reused 0 (from 0)\u001b[K\r\n",
      "Receiving objects: 100% (50/50), 808.19 KiB | 18.37 MiB/s, done.\r\n",
      "Resolving deltas: 100% (11/11), done.\r\n"
     ]
    }
   ],
   "source": [
    "!pip install git+https://github.com/Farama-Foundation/MAgent2\n",
    "!git clone https://github.com/sambt22022517/BTL-RL.git"
   ]
  },
  {
   "cell_type": "markdown",
   "id": "3c3ed6ee",
   "metadata": {
    "papermill": {
     "duration": 0.00739,
     "end_time": "2024-12-10T10:25:00.808788",
     "exception": false,
     "start_time": "2024-12-10T10:25:00.801398",
     "status": "completed"
    },
    "tags": []
   },
   "source": [
    "## Import module"
   ]
  },
  {
   "cell_type": "code",
   "execution_count": 3,
   "id": "c325f5f3",
   "metadata": {
    "execution": {
     "iopub.execute_input": "2024-12-10T10:25:00.824762Z",
     "iopub.status.busy": "2024-12-10T10:25:00.824441Z",
     "iopub.status.idle": "2024-12-10T10:25:05.664346Z",
     "shell.execute_reply": "2024-12-10T10:25:05.663409Z"
    },
    "papermill": {
     "duration": 4.850435,
     "end_time": "2024-12-10T10:25:05.666433",
     "exception": false,
     "start_time": "2024-12-10T10:25:00.815998",
     "status": "completed"
    },
    "tags": []
   },
   "outputs": [],
   "source": [
    "import torch\n",
    "import torch.nn as nn\n",
    "from torch.utils.data import Dataset, DataLoader\n",
    "import torch.nn.functional as F\n",
    "\n",
    "from magent2.environments import battle_v4\n",
    "import cv2\n",
    "from collections import deque\n",
    "import time\n",
    "import random\n",
    "import seaborn as sns\n",
    "from matplotlib import pyplot as plt\n",
    "from IPython.display import FileLink\n",
    "import warnings\n",
    "warnings.filterwarnings('ignore')"
   ]
  },
  {
   "cell_type": "markdown",
   "id": "1f99918e",
   "metadata": {
    "papermill": {
     "duration": 0.007692,
     "end_time": "2024-12-10T10:25:05.682328",
     "exception": false,
     "start_time": "2024-12-10T10:25:05.674636",
     "status": "completed"
    },
    "tags": []
   },
   "source": [
    "## Config"
   ]
  },
  {
   "cell_type": "code",
   "execution_count": 4,
   "id": "95f86ea6",
   "metadata": {
    "execution": {
     "iopub.execute_input": "2024-12-10T10:25:05.698410Z",
     "iopub.status.busy": "2024-12-10T10:25:05.697722Z",
     "iopub.status.idle": "2024-12-10T10:25:05.787269Z",
     "shell.execute_reply": "2024-12-10T10:25:05.786566Z"
    },
    "papermill": {
     "duration": 0.09958,
     "end_time": "2024-12-10T10:25:05.789158",
     "exception": false,
     "start_time": "2024-12-10T10:25:05.689578",
     "status": "completed"
    },
    "tags": []
   },
   "outputs": [],
   "source": [
    "# Global config\n",
    "SEED = 42\n",
    "env = battle_v4.env(map_size=45, render_mode=\"rgb_array\")\n",
    "observation_shape = env.observation_space(\"red_0\").shape\n",
    "action_shape = env.action_space(\"red_0\").n\n",
    "episodes = 20\n",
    "batch_size = 2**10\n",
    "device = 'cuda' if torch.cuda.is_available() else 'cpu'\n",
    "\n",
    "# Pretrain Model\n",
    "pretrain_model_params = {\n",
    "    'observation_shape': observation_shape,\n",
    "    'action_shape': action_shape,\n",
    "    'device': device,\n",
    "}\n",
    "pretrain_params = '/kaggle/working/BTL-RL/experiment/sam/v1/v1.pth'\n",
    "# pretrain_params = '/kaggle/working/BTL-RL/result/v0/red.pt'\n",
    "\n",
    "# Model\n",
    "model_params = {\n",
    "    'observation_shape': observation_shape,\n",
    "    'action_shape': action_shape,\n",
    "    'device': device,\n",
    "}\n",
    "\n",
    "# Trainer\n",
    "optim_params = {\n",
    "    'lr': 1e-3,\n",
    "    'weight_decay': 0.0,\n",
    "}\n",
    "scheduler_params = {\n",
    "    'T_max': episodes,\n",
    "    'eta_min': 1e-6,\n",
    "}\n",
    "trainer_params = {\n",
    "    'action_shape': action_shape,\n",
    "    'epsilon': 1.0,\n",
    "    'epsilon_min': 0.01,\n",
    "    'epsilon_beta': 0.92, \n",
    "    'weight_init': True,\n",
    "    'custom_weight_initializer': None,\n",
    "    'device': device,\n",
    "}\n",
    "\n",
    "# training\n",
    "train_func_params = {\n",
    "    'episodes': episodes,\n",
    "    'batch_size': batch_size,\n",
    "    'gamma': 0.9,\n",
    "    'env': env,\n",
    "    'eval_opponent_net': 'pretrain', \n",
    "    'update_tgt_net_frequence': 1,\n",
    "    'update_tgt_net_rate': 0.3,\n",
    "    'update_eva_net_frequence': 4, \n",
    "    'detect_best_model_by': 'val',\n",
    "    'start_detect_best_model_at_episode': 5, \n",
    "    'save_at_end': True,\n",
    "    'save_only_network': True,\n",
    "    'save_name': f'{episodes}-{batch_size}.pth',\n",
    "}\n",
    "\n",
    "# Memory\n",
    "memory_params = {\n",
    "    'maxlen': 162 * episodes,\n",
    "}\n",
    "\n",
    "# Eval Policy\n",
    "_eval_policy_params = {\n",
    "    'env': env,\n",
    "    'opponent_net': train_func_params['eval_opponent_net'],\n",
    "}"
   ]
  },
  {
   "cell_type": "code",
   "execution_count": 5,
   "id": "58ab1bfb",
   "metadata": {
    "execution": {
     "iopub.execute_input": "2024-12-10T10:25:05.805281Z",
     "iopub.status.busy": "2024-12-10T10:25:05.804945Z",
     "iopub.status.idle": "2024-12-10T10:25:05.813150Z",
     "shell.execute_reply": "2024-12-10T10:25:05.812503Z"
    },
    "papermill": {
     "duration": 0.018224,
     "end_time": "2024-12-10T10:25:05.814911",
     "exception": false,
     "start_time": "2024-12-10T10:25:05.796687",
     "status": "completed"
    },
    "tags": []
   },
   "outputs": [],
   "source": [
    "np.random.seed(SEED)\n",
    "torch.manual_seed(SEED)\n",
    "torch.cuda.manual_seed(SEED)"
   ]
  },
  {
   "cell_type": "markdown",
   "id": "9fc15176",
   "metadata": {
    "papermill": {
     "duration": 0.008413,
     "end_time": "2024-12-10T10:25:05.832309",
     "exception": false,
     "start_time": "2024-12-10T10:25:05.823896",
     "status": "completed"
    },
    "tags": []
   },
   "source": [
    "## Data"
   ]
  },
  {
   "cell_type": "code",
   "execution_count": 6,
   "id": "406a461e",
   "metadata": {
    "execution": {
     "iopub.execute_input": "2024-12-10T10:25:05.849616Z",
     "iopub.status.busy": "2024-12-10T10:25:05.849319Z",
     "iopub.status.idle": "2024-12-10T10:25:05.859351Z",
     "shell.execute_reply": "2024-12-10T10:25:05.858596Z"
    },
    "papermill": {
     "duration": 0.020104,
     "end_time": "2024-12-10T10:25:05.860902",
     "exception": false,
     "start_time": "2024-12-10T10:25:05.840798",
     "status": "completed"
    },
    "tags": []
   },
   "outputs": [],
   "source": [
    "class Memory(Dataset):\n",
    "    def __init__(self, maxlen):\n",
    "        super().__init__()\n",
    "        self.maxlen = maxlen\n",
    "        self.step_memory = [deque(maxlen=self.maxlen)]\n",
    "    \n",
    "    def push(self, memory_idx, state, action, reward, next_state, done):\n",
    "        if memory_idx == len(self.step_memory):\n",
    "            self.step_memory.append(deque(maxlen=self.maxlen))\n",
    "        self.step_memory[memory_idx].append((state, action, reward, next_state, done))\n",
    "    \n",
    "    def sample(self, batch_size):\n",
    "        memory_idxes = np.empty(0, dtype=int)\n",
    "        while batch_size >= len(self.step_memory):\n",
    "            memory_idxes = np.concatenate((memory_idxes, np.arange(len(self.step_memory))), axis=0)\n",
    "            batch_size -= len(self.step_memory)\n",
    "        if batch_size > 0:\n",
    "            memory_idxes = np.concatenate((memory_idxes, np.random.choice(len(self.step_memory), batch_size, replace=False)), axis=0)\n",
    "\n",
    "        batch = []\n",
    "        for idx in memory_idxes:\n",
    "            data_idx = np.random.choice(len(self.step_memory[idx]), 1)[0]\n",
    "            batch.append(self.step_memory[idx][data_idx])\n",
    "            \n",
    "        state, action, reward, next_state, done = zip(*batch)\n",
    "        return (\n",
    "            torch.tensor(state),\n",
    "            torch.tensor(action),\n",
    "            torch.tensor(reward, dtype=torch.float),\n",
    "            torch.tensor(next_state),\n",
    "            torch.tensor(done, dtype=torch.float32),\n",
    "        )\n",
    "    \n",
    "    def __len__(self):\n",
    "        return sum([len(memory) for memory in self.step_memory])\n",
    "\n",
    "    def __getitem__(self, idx):\n",
    "        memory_idx = 0\n",
    "        while idx >= len(self.step_memory[memory_idx]):\n",
    "            idx -= len(self.step_memory[memory_idx])\n",
    "            memory_idx += 1\n",
    "        state, action, reward, next_state, done = self.step_memory[memory_idx][idx]\n",
    "        return (\n",
    "            torch.tensor(state),\n",
    "            torch.tensor(action),\n",
    "            torch.tensor(reward, dtype=torch.float),\n",
    "            torch.tensor(next_state),\n",
    "            torch.tensor(done, dtype=torch.float32),\n",
    "        )\n",
    "    \n",
    "    def getMemoryLength(self, idx):\n",
    "        return len(self.step_memory[idx])\n",
    "    \n",
    "    def getAllMemoryLength(self):\n",
    "        return [len(memory) for memory in self.step_memory]\n",
    "    \n",
    "    def getNumMemory(self):\n",
    "        return len(self.step_memory)"
   ]
  },
  {
   "cell_type": "code",
   "execution_count": 7,
   "id": "80310307",
   "metadata": {
    "execution": {
     "iopub.execute_input": "2024-12-10T10:25:05.876379Z",
     "iopub.status.busy": "2024-12-10T10:25:05.876128Z",
     "iopub.status.idle": "2024-12-10T10:25:05.879942Z",
     "shell.execute_reply": "2024-12-10T10:25:05.878898Z"
    },
    "papermill": {
     "duration": 0.013316,
     "end_time": "2024-12-10T10:25:05.881443",
     "exception": false,
     "start_time": "2024-12-10T10:25:05.868127",
     "status": "completed"
    },
    "tags": []
   },
   "outputs": [],
   "source": [
    "train_memory = Memory(**memory_params)"
   ]
  },
  {
   "cell_type": "markdown",
   "id": "e2c52512",
   "metadata": {
    "papermill": {
     "duration": 0.007009,
     "end_time": "2024-12-10T10:25:05.895679",
     "exception": false,
     "start_time": "2024-12-10T10:25:05.888670",
     "status": "completed"
    },
    "tags": []
   },
   "source": [
    "## Pretrain Model"
   ]
  },
  {
   "cell_type": "code",
   "execution_count": 8,
   "id": "d486e884",
   "metadata": {
    "execution": {
     "iopub.execute_input": "2024-12-10T10:25:05.911331Z",
     "iopub.status.busy": "2024-12-10T10:25:05.910895Z",
     "iopub.status.idle": "2024-12-10T10:25:05.917594Z",
     "shell.execute_reply": "2024-12-10T10:25:05.916788Z"
    },
    "papermill": {
     "duration": 0.016194,
     "end_time": "2024-12-10T10:25:05.919029",
     "exception": false,
     "start_time": "2024-12-10T10:25:05.902835",
     "status": "completed"
    },
    "tags": []
   },
   "outputs": [],
   "source": [
    "class PretrainQNetwork(nn.Module):\n",
    "    def __init__(self, observation_shape, action_shape, device='cpu'):\n",
    "        super().__init__()\n",
    "        self.observation_shape = observation_shape\n",
    "        self.action_shape = action_shape\n",
    "        self.device = device\n",
    "        \n",
    "        self.cnn = nn.Sequential(\n",
    "            nn.Conv2d(observation_shape[-1], observation_shape[-1], kernel_size=3),\n",
    "            nn.ReLU(),\n",
    "            nn.Conv2d(observation_shape[-1], observation_shape[-1], kernel_size=3),\n",
    "            nn.ReLU(),\n",
    "        )\n",
    "        \n",
    "        dummy_input = torch.randn(observation_shape).permute(2, 0, 1)\n",
    "        dummy_output = self.cnn(dummy_input)\n",
    "        flatten_dim = dummy_output.view(-1).shape[0]\n",
    "        self.network = nn.Sequential(\n",
    "            nn.Linear(flatten_dim, 120),\n",
    "            nn.ReLU(),\n",
    "            nn.Linear(120, 84),\n",
    "            nn.ReLU(),\n",
    "            nn.Linear(84, action_shape),\n",
    "        )\n",
    "\n",
    "    def forward(self, x):\n",
    "        x = x.to(self.device)\n",
    "        assert len(x.shape) >= 3, \"only support magent input observation\"\n",
    "        x = self.cnn(x)\n",
    "        if len(x.shape) == 3:\n",
    "            batchsize = 1\n",
    "        else:\n",
    "            batchsize = x.shape[0]\n",
    "        x = x.reshape(batchsize, -1)\n",
    "        return self.network(x)"
   ]
  },
  {
   "cell_type": "markdown",
   "id": "f22a781c",
   "metadata": {
    "papermill": {
     "duration": 0.007014,
     "end_time": "2024-12-10T10:25:05.933183",
     "exception": false,
     "start_time": "2024-12-10T10:25:05.926169",
     "status": "completed"
    },
    "tags": []
   },
   "source": [
    "## Model"
   ]
  },
  {
   "cell_type": "code",
   "execution_count": 9,
   "id": "bed29bf8",
   "metadata": {
    "execution": {
     "iopub.execute_input": "2024-12-10T10:25:05.948354Z",
     "iopub.status.busy": "2024-12-10T10:25:05.948129Z",
     "iopub.status.idle": "2024-12-10T10:25:05.954470Z",
     "shell.execute_reply": "2024-12-10T10:25:05.953778Z"
    },
    "papermill": {
     "duration": 0.015762,
     "end_time": "2024-12-10T10:25:05.956051",
     "exception": false,
     "start_time": "2024-12-10T10:25:05.940289",
     "status": "completed"
    },
    "tags": []
   },
   "outputs": [],
   "source": [
    "class QNetwork(nn.Module):\n",
    "    def __init__(self, observation_shape, action_shape, device='cpu'):\n",
    "        super().__init__()\n",
    "        self.observation_shape = observation_shape\n",
    "        self.action_shape = action_shape\n",
    "        self.device = device\n",
    "        \n",
    "        self.cnn = nn.Sequential(\n",
    "            nn.Conv2d(observation_shape[-1], observation_shape[-1], kernel_size=3),\n",
    "            nn.ReLU(),\n",
    "            nn.Conv2d(observation_shape[-1], observation_shape[-1], kernel_size=3),\n",
    "            nn.ReLU(),\n",
    "        )\n",
    "        \n",
    "        dummy_input = torch.randn(observation_shape).permute(2, 0, 1)\n",
    "        dummy_output = self.cnn(dummy_input)\n",
    "        flatten_dim = dummy_output.view(-1).shape[0]\n",
    "        self.network = nn.Sequential(\n",
    "            nn.Linear(flatten_dim, 120),\n",
    "            nn.ReLU(),\n",
    "            nn.Linear(120, 84),\n",
    "            nn.ReLU(),\n",
    "            nn.Linear(84, action_shape),\n",
    "        )\n",
    "\n",
    "    def forward(self, x):\n",
    "        x = x.to(self.device)\n",
    "        assert len(x.shape) >= 3, \"only support magent input observation\"\n",
    "        x = self.cnn(x)\n",
    "        if len(x.shape) == 3:\n",
    "            batchsize = 1\n",
    "        else:\n",
    "            batchsize = x.shape[0]\n",
    "        x = x.reshape(batchsize, -1)\n",
    "        return self.network(x)"
   ]
  },
  {
   "cell_type": "markdown",
   "id": "4aea1630",
   "metadata": {
    "papermill": {
     "duration": 0.007209,
     "end_time": "2024-12-10T10:25:05.970774",
     "exception": false,
     "start_time": "2024-12-10T10:25:05.963565",
     "status": "completed"
    },
    "tags": []
   },
   "source": [
    "## Trainer"
   ]
  },
  {
   "cell_type": "code",
   "execution_count": 10,
   "id": "a551d8b1",
   "metadata": {
    "execution": {
     "iopub.execute_input": "2024-12-10T10:25:05.986647Z",
     "iopub.status.busy": "2024-12-10T10:25:05.986383Z",
     "iopub.status.idle": "2024-12-10T10:25:06.016655Z",
     "shell.execute_reply": "2024-12-10T10:25:06.016040Z"
    },
    "papermill": {
     "duration": 0.040349,
     "end_time": "2024-12-10T10:25:06.018251",
     "exception": false,
     "start_time": "2024-12-10T10:25:05.977902",
     "status": "completed"
    },
    "tags": []
   },
   "outputs": [],
   "source": [
    "class Trainer:\n",
    "    def __init__(\n",
    "        self, \n",
    "        policy_net, target_net, evalua_net, pretrain_net, \n",
    "        lossfunc, optimizer, scheduler, \n",
    "        action_shape, \n",
    "        epsilon=1.0, epsilon_min=0.01, epsilon_beta=0.995, \n",
    "        pretrain_rate=1, pretrain_beta=0.9, \n",
    "        weight_init=True, custom_weight_initializer=None, \n",
    "        device='cpu'\n",
    "    ):\n",
    "        \n",
    "        self.policy_net = policy_net.to(device)\n",
    "        self.target_net = target_net.to(device)\n",
    "        self.target_net.eval()\n",
    "        self.evalua_net = evalua_net.to(device)\n",
    "        self.evalua_net.eval()\n",
    "        self.pretrain_net = pretrain_net.to(device)\n",
    "        self.pretrain_net.eval()\n",
    "        \n",
    "        self.lossfuncs = lossfunc\n",
    "        self.optimizer = optimizer\n",
    "        self.scheduler = scheduler\n",
    "\n",
    "        self.action_shape = action_shape\n",
    "        \n",
    "        self.epsilon = epsilon\n",
    "        self.epsilon_min = epsilon_min\n",
    "        self.epsilon_beta = epsilon_beta\n",
    "        \n",
    "        self.weight_init = weight_init\n",
    "        self.custom_weight_initializer = custom_weight_initializer\n",
    "\n",
    "        self.device = device\n",
    "        \n",
    "        self.save_best_model = False\n",
    "        \n",
    "        if self.weight_init:\n",
    "            if self.custom_weight_initializer:\n",
    "                self.policy_net.apply(self.custom_weight_initializer)\n",
    "            else:\n",
    "                self.policy_net.apply(self.xavier_init_weight)\n",
    "                \n",
    "    def xavier_init_weight(self, m):\n",
    "        if isinstance(m, nn.Conv2d) or isinstance(m, nn.ConvTranspose2d):\n",
    "            nn.init.xavier_uniform_(m.weight)\n",
    "            if torch.is_tensor(m.bias):\n",
    "                m.bias.data.fill_(0.01)\n",
    "    \n",
    "    def save_model(self, dirname='/kaggle/working/model_params', filename='full_model.pth', only_network=False):\n",
    "        if not os.path.isdir(dirname):\n",
    "            os.mkdir(dirname)\n",
    "        state_dicts = {\n",
    "            'network_params': self.policy_net.state_dict(),\n",
    "            'scheduler_params': self.scheduler.state_dict(),\n",
    "            'optimizer_params': self.optimizer.state_dict(),\n",
    "        }\n",
    "        if only_network:\n",
    "            return torch.save(self.policy_net.state_dict(), os.path.join(dirname, filename))\n",
    "        return torch.save(state_dicts, os.path.join(dirname, filename))\n",
    "    \n",
    "    def load_model(self, dirname='/kaggle/working/model_params', filename='full_model.pth'):\n",
    "        best_model_path = f'{dirname}/{filename}'\n",
    "        if os.path.exists(best_model_path):\n",
    "            try:\n",
    "                best_model_state = torch.load(best_model_path, weights_only=True, map_location=self.device)['network_params']\n",
    "            except:\n",
    "                best_model_state = torch.load(best_model_path, weights_only=True, map_location=self.device)\n",
    "            self.policy_net.load_state_dict(best_model_state)\n",
    "            print(f'Model is loaded from {best_model_path}')\n",
    "        else:\n",
    "            print(f'Model is not exist at {best_model_path}')\n",
    "\n",
    "    def epsilon_greedy_policy(self, observation, only_random=False):\n",
    "        if not only_random:\n",
    "            if np.random.rand() < self.epsilon:\n",
    "                return np.random.randint(low=0, high=self.action_shape)\n",
    "            else:\n",
    "                observation = torch.FloatTensor(observation).unsqueeze(0).to(self.device)\n",
    "                with torch.no_grad():\n",
    "                    return self.policy_net(observation).squeeze().argmax().item()\n",
    "        return np.random.randint(low=0, high=self.action_shape)\n",
    "                \n",
    "    def _train_policy_net(self, train_memory, batch_size, gamma):\n",
    "        # Tạo train loader\n",
    "        train_loader = DataLoader(train_memory, batch_size=batch_size, shuffle=True)\n",
    "        self.policy_net.train()\n",
    "        for observations, actions, rewards, next_observations, dones in train_loader:\n",
    "            self.policy_net.zero_grad()\n",
    "            \n",
    "            observations = observations.to(self.device)\n",
    "            actions = actions.unsqueeze(1).to(self.device)\n",
    "            rewards = rewards.unsqueeze(1).to(self.device)\n",
    "            next_observations = next_observations.to(self.device)\n",
    "            dones = dones.unsqueeze(1).to(self.device)\n",
    "            \n",
    "            # Tính giá trị Q mục tiêu\n",
    "            with torch.no_grad():\n",
    "                target_q_values = rewards + gamma * (1 - dones) * self.target_net(next_observations).max(1, keepdim=True)[0]\n",
    "            \n",
    "            # Tính giá trị Q hiện tại\n",
    "            current_q_values = self.policy_net(observations).gather(1, actions)\n",
    "            \n",
    "            # Compute loss\n",
    "            loss = self.lossfuncs(current_q_values, target_q_values)\n",
    "            \n",
    "            # Optimize the network\n",
    "            loss.backward()\n",
    "            self.optimizer.step()\n",
    "            self.scheduler.step()\n",
    "\n",
    "    def _eval_policy_net(self, env, opponent_net):\n",
    "        self.policy_net.eval()\n",
    "        result = []\n",
    "        T_result = []\n",
    "\n",
    "        # Xác định đối thủ\n",
    "        if opponent_net == 'target':\n",
    "            opponent_net = self.target_net\n",
    "        elif opponent_net == 'pretrain':\n",
    "            opponent_net = self.pretrain_net\n",
    "        else:\n",
    "            opponent_net = self.evalua_net\n",
    "\n",
    "        model = {'red': self.policy_net, 'blue': opponent_net}\n",
    "        with torch.no_grad():\n",
    "            for turn in range(2): # Đánh giá ở cả 2 bên đỏ và xanh\n",
    "                T = 0\n",
    "                red_reward = 0\n",
    "                blue_reward = 0                \n",
    "                env.reset()\n",
    "                for agent in env.agent_iter():\n",
    "                    T += 1\n",
    "                    observation, reward, termination, truncation, info = env.last()\n",
    "                    observation = np.transpose(observation, (2, 0, 1))\n",
    "                    observation = torch.FloatTensor(observation).unsqueeze(0).to(self.device)\n",
    "\n",
    "                    # Chọn hành động\n",
    "                    if 'red' in agent:\n",
    "                        red_reward += reward\n",
    "                        if termination or truncation:\n",
    "                            action = None\n",
    "                        else:\n",
    "                            action = model['red'](observation).squeeze().argmax().item()\n",
    "                    else:\n",
    "                        blue_reward += reward\n",
    "                        if termination or truncation:\n",
    "                            action = None\n",
    "                        else:\n",
    "                            action = model['blue'](observation).squeeze().argmax().item()\n",
    "                    env.step(action)\n",
    "\n",
    "                # Lưu lại kết quả\n",
    "                if turn == 0:\n",
    "                    result.append(red_reward - blue_reward)\n",
    "                else:\n",
    "                    result.append(blue_reward - red_reward)\n",
    "                T_result.append(T)\n",
    "                \n",
    "                model = {'blue': self.policy_net, 'red': opponent_net} # Đổi bên\n",
    "                \n",
    "        # Lấy min để trả về, nếu min > 0 thì tức cả 2 đều rất Ok và ngược lại thì ít nhất có 1 bên không ổn, không lấy.        \n",
    "        over_result = min(result)\n",
    "        T_result = T_result[result.index(over_result)]\n",
    "        speed_val_reward = over_result / T_result * 1000\n",
    "        return speed_val_reward, T_result\n",
    "    \n",
    "    def train(self, \n",
    "              train_memory, episodes, batch_size, gamma, env, \n",
    "              eval_opponent_net='evalua', \n",
    "              update_tgt_net_frequence=10, update_tgt_net_rate=0.005, \n",
    "              update_eva_net_frequence=4, \n",
    "              detect_best_model_by='train', \n",
    "              start_detect_best_model_at_episode=5, \n",
    "              save_at_end=False, save_only_network=False, save_name='full_model.pth',\n",
    "             ):\n",
    "        all_train_rewards = []\n",
    "        all_T_train = []\n",
    "        all_val_rewards = []\n",
    "        all_T_val = []\n",
    "        saved = []\n",
    "        max_reward = float('-inf')\n",
    "    \n",
    "        for episode in range(episodes):\n",
    "            total_train_reward = {'red': 0, 'blue': 0}\n",
    "            T = 0\n",
    "            agent_POV_is_red = (np.random.rand() >= 0.5)\n",
    "            prev_observations = {}\n",
    "            prev_actions = {}\n",
    "            memory_idx = {}\n",
    "            \n",
    "            env.reset()\n",
    "            for idx, agent in enumerate(env.agent_iter()):\n",
    "                T += 1\n",
    "                prev_observation, reward, termination, truncation, _ = env.last()\n",
    "                prev_observation = np.transpose(prev_observation, (2, 0, 1))\n",
    "                if 'red' in agent:\n",
    "                    total_train_reward['red'] += reward\n",
    "                else:\n",
    "                    total_train_reward['blue'] += reward\n",
    "                prev_action = self.epsilon_greedy_policy(prev_observation)\n",
    "\n",
    "                memory_idx[agent] = 0\n",
    "                prev_observations[agent] = prev_observation\n",
    "                prev_actions[agent] = prev_action\n",
    "                env.step(prev_action)     \n",
    "                \n",
    "                if (idx+1) % env.num_agents == 0:\n",
    "                    break\n",
    "                    \n",
    "            for agent in env.agent_iter():\n",
    "                T += 1\n",
    "                \n",
    "                # Từ trạng thái trước, thực hiện hành động để lấy trạng thái hiện tại\n",
    "                observation, reward, termination, truncation, _ = env.last()\n",
    "                observation = np.transpose(observation, (2, 0, 1))\n",
    "\n",
    "                # Đánh giá phần thưởng của trận đấu\n",
    "                if 'red' in agent:\n",
    "                    total_train_reward['red'] += reward\n",
    "                else:\n",
    "                    total_train_reward['blue'] += reward\n",
    "\n",
    "                # Nếu agent chết rồi thì hành động chọn là None\n",
    "                if termination or truncation:\n",
    "                    action = None\n",
    "                else:\n",
    "                    action = self.epsilon_greedy_policy(observation)\n",
    "                \n",
    "                # Thêm bộ (S, A, R+, S+, terminal?) vào bộ nhớ để training\n",
    "                train_memory.push(\n",
    "                    memory_idx[agent],\n",
    "                    prev_observations[agent], \n",
    "                    prev_actions[agent], \n",
    "                    reward, \n",
    "                    observation, \n",
    "                    termination\n",
    "                )\n",
    "\n",
    "                memory_idx[agent] += 1\n",
    "                prev_observations[agent] = observation\n",
    "                prev_actions[agent] = action\n",
    "                env.step(action)\n",
    "\n",
    "            # Training mô hình với memory hiện tại\n",
    "            self._train_policy_net(train_memory, batch_size, gamma)\n",
    "                \n",
    "            # Đánh giá model, phần thưởng thu được càng lớn thì càng tốt\n",
    "            speed_train_reward = (total_train_reward['red'] - total_train_reward['blue']) / T * 1000\n",
    "            speed_val_reward, T_val = self._eval_policy_net(env, opponent_net=eval_opponent_net)\n",
    "            \n",
    "            # Cập nhật lại mô hình mục tiêu theo chu kì\n",
    "            if episode % update_tgt_net_frequence == 0:\n",
    "                target_net_state_dict = self.target_net.state_dict()\n",
    "                policy_net_state_dict = self.policy_net.state_dict()\n",
    "                for key in policy_net_state_dict:\n",
    "                    target_net_state_dict[key] = policy_net_state_dict[key]*update_tgt_net_rate + target_net_state_dict[key]*(1-update_tgt_net_rate)\n",
    "                self.target_net.load_state_dict(target_net_state_dict)\n",
    "            \n",
    "            # Cập nhật lại mô hình đánh giá theo chu kì\n",
    "            if episode % update_eva_net_frequence == 0:\n",
    "                self.evalua_net.load_state_dict(self.policy_net.state_dict())\n",
    "\n",
    "            # Lưu lại model nếu kết quả tốt\n",
    "            if detect_best_model_by is not None:\n",
    "                if detect_best_model_by == 'train':\n",
    "                    model_reward = speed_train_reward\n",
    "                elif detect_best_model_by == 'val':\n",
    "                    model_reward = speed_val_reward\n",
    "                    \n",
    "                if model_reward > max_reward and episode >= start_detect_best_model_at_episode:\n",
    "                    max_reward = model_reward\n",
    "                    self.save_model(filename=save_name, only_network=save_only_network)\n",
    "                    self.save_best_model = True\n",
    "                    saved.append(1)\n",
    "                else:\n",
    "                    saved.append(0)\n",
    "            else:\n",
    "                saved.append(0)\n",
    "        \n",
    "            # Cập nhật lại epsilon, do càng train thì mô hình càng tốt, từ đó ít cần khám phá hơn\n",
    "            self.epsilon = max(self.epsilon_min, self.epsilon * self.epsilon_beta)\n",
    "\n",
    "            # Logging\n",
    "            print(f\"Episode {episode + 1}, Speed Train: {speed_train_reward}, T Train: {T}, Speed Val: {speed_val_reward}, T Val: {T_val}\")\n",
    "\n",
    "            all_train_rewards.append(speed_train_reward)\n",
    "            all_val_rewards.append(speed_val_reward)\n",
    "            all_T_train.append(T)\n",
    "            all_T_val.append(T_val)\n",
    "\n",
    "        if not self.save_best_model or save_at_end:\n",
    "            self.save_model(filename=f'save-at-end {save_name}', only_network=save_only_network)\n",
    "            self.save_best_model = True\n",
    "            saved[-1] = 1\n",
    "        return all_train_rewards, all_T_train, all_val_rewards, all_T_val, saved"
   ]
  },
  {
   "cell_type": "markdown",
   "id": "9748bc52",
   "metadata": {
    "papermill": {
     "duration": 0.007184,
     "end_time": "2024-12-10T10:25:06.032642",
     "exception": false,
     "start_time": "2024-12-10T10:25:06.025458",
     "status": "completed"
    },
    "tags": []
   },
   "source": [
    "## Training Model"
   ]
  },
  {
   "cell_type": "code",
   "execution_count": 11,
   "id": "74e1c259",
   "metadata": {
    "execution": {
     "iopub.execute_input": "2024-12-10T10:25:06.047957Z",
     "iopub.status.busy": "2024-12-10T10:25:06.047733Z",
     "iopub.status.idle": "2024-12-10T10:25:06.329766Z",
     "shell.execute_reply": "2024-12-10T10:25:06.328857Z"
    },
    "papermill": {
     "duration": 0.291666,
     "end_time": "2024-12-10T10:25:06.331495",
     "exception": false,
     "start_time": "2024-12-10T10:25:06.039829",
     "status": "completed"
    },
    "tags": []
   },
   "outputs": [
    {
     "data": {
      "text/plain": [
       "<All keys matched successfully>"
      ]
     },
     "execution_count": 11,
     "metadata": {},
     "output_type": "execute_result"
    }
   ],
   "source": [
    "policy_net = QNetwork(**model_params)\n",
    "\n",
    "target_net = QNetwork(**model_params)\n",
    "target_net.load_state_dict(policy_net.state_dict())\n",
    "\n",
    "evalua_net = QNetwork(**model_params)\n",
    "evalua_net.load_state_dict(policy_net.state_dict())\n",
    "\n",
    "pretrain_net = PretrainQNetwork(**pretrain_model_params)\n",
    "pretrain_net.load_state_dict(\n",
    "    torch.load(pretrain_params, weights_only=True, map_location=device)\n",
    ")"
   ]
  },
  {
   "cell_type": "code",
   "execution_count": 12,
   "id": "be7a9d75",
   "metadata": {
    "execution": {
     "iopub.execute_input": "2024-12-10T10:25:06.347701Z",
     "iopub.status.busy": "2024-12-10T10:25:06.347359Z",
     "iopub.status.idle": "2024-12-10T10:25:07.533538Z",
     "shell.execute_reply": "2024-12-10T10:25:07.532794Z"
    },
    "papermill": {
     "duration": 1.196573,
     "end_time": "2024-12-10T10:25:07.535575",
     "exception": false,
     "start_time": "2024-12-10T10:25:06.339002",
     "status": "completed"
    },
    "tags": []
   },
   "outputs": [],
   "source": [
    "loss_function = nn.MSELoss()\n",
    "optimizer = torch.optim.AdamW(policy_net.parameters(), **optim_params)\n",
    "lr_scheduler = torch.optim.lr_scheduler.CosineAnnealingLR(optimizer, **scheduler_params)"
   ]
  },
  {
   "cell_type": "code",
   "execution_count": 13,
   "id": "cdc10d6b",
   "metadata": {
    "execution": {
     "iopub.execute_input": "2024-12-10T10:25:07.552517Z",
     "iopub.status.busy": "2024-12-10T10:25:07.551683Z",
     "iopub.status.idle": "2024-12-10T10:25:07.591745Z",
     "shell.execute_reply": "2024-12-10T10:25:07.590907Z"
    },
    "papermill": {
     "duration": 0.049962,
     "end_time": "2024-12-10T10:25:07.593376",
     "exception": false,
     "start_time": "2024-12-10T10:25:07.543414",
     "status": "completed"
    },
    "tags": []
   },
   "outputs": [],
   "source": [
    "trainer = Trainer(\n",
    "    policy_net, target_net, evalua_net, pretrain_net, \n",
    "    loss_function, optimizer, lr_scheduler, \n",
    "    **trainer_params\n",
    ")"
   ]
  },
  {
   "cell_type": "code",
   "execution_count": 14,
   "id": "398096b0",
   "metadata": {
    "execution": {
     "iopub.execute_input": "2024-12-10T10:25:07.609225Z",
     "iopub.status.busy": "2024-12-10T10:25:07.608962Z",
     "iopub.status.idle": "2024-12-10T10:25:21.881246Z",
     "shell.execute_reply": "2024-12-10T10:25:21.880155Z"
    },
    "papermill": {
     "duration": 14.282118,
     "end_time": "2024-12-10T10:25:21.882950",
     "exception": false,
     "start_time": "2024-12-10T10:25:07.600832",
     "status": "completed"
    },
    "tags": []
   },
   "outputs": [
    {
     "name": "stdout",
     "output_type": "stream",
     "text": [
      "Val Reward:  (-50.22258513512578, 19049)\n",
      "--- 14.267715692520142 seconds ---\n"
     ]
    }
   ],
   "source": [
    "start_time = time.time()\n",
    "val_reward = trainer._eval_policy_net(**_eval_policy_params)\n",
    "print('Val Reward: ', val_reward)\n",
    "print(\"--- %s seconds ---\" % (time.time() - start_time))"
   ]
  },
  {
   "cell_type": "code",
   "execution_count": 15,
   "id": "441f2b56",
   "metadata": {
    "execution": {
     "iopub.execute_input": "2024-12-10T10:25:21.900076Z",
     "iopub.status.busy": "2024-12-10T10:25:21.899385Z",
     "iopub.status.idle": "2024-12-10T11:28:43.341350Z",
     "shell.execute_reply": "2024-12-10T11:28:43.340454Z"
    },
    "papermill": {
     "duration": 3801.460036,
     "end_time": "2024-12-10T11:28:43.351132",
     "exception": false,
     "start_time": "2024-12-10T10:25:21.891096",
     "status": "completed"
    },
    "tags": []
   },
   "outputs": [
    {
     "name": "stdout",
     "output_type": "stream",
     "text": [
      "Episode 1, Speed Train: -0.13206134142731116, T Train: 161478, Speed Val: -32.97885804234229, T Val: 12629\n",
      "Episode 2, Speed Train: 0.4078854079487084, T Train: 160474, Speed Val: -0.348027343759423, T Val: 62021\n",
      "Episode 3, Speed Train: 4.434041400079222, T Train: 114761, Speed Val: 0.004062647514362802, T Val: 156302\n",
      "Episode 4, Speed Train: 2.0890553713751774, T Train: 53596, Speed Val: -18.292535540099717, T Val: 15728\n",
      "Episode 5, Speed Train: 0.5020875386771004, T Train: 106346, Speed Val: -38.839738123302894, T Val: 10851\n",
      "Episode 6, Speed Train: 7.856307005343104, T Train: 86274, Speed Val: -39.716308320614175, T Val: 9958\n",
      "Episode 7, Speed Train: 5.94439528864413, T Train: 68573, Speed Val: -28.650037591162576, T Val: 10604\n",
      "Episode 8, Speed Train: 5.205718907133664, T Train: 49242, Speed Val: -29.818641559430652, T Val: 9291\n",
      "Episode 9, Speed Train: -3.31276795415628, T Train: 28203, Speed Val: -37.97080274943235, T Val: 7535\n",
      "Episode 10, Speed Train: 4.926226453296708, T Train: 16876, Speed Val: -0.6222847720277541, T Val: 95985\n",
      "Episode 11, Speed Train: -1.203482050571473, T Train: 32971, Speed Val: -32.85642490942055, T Val: 7961\n",
      "Episode 12, Speed Train: -1.3994228950384047, T Train: 21834, Speed Val: -0.09399132066857084, T Val: 121341\n",
      "Episode 13, Speed Train: 3.0960838601000167, T Train: 42515, Speed Val: -12.240137326618402, T Val: 11939\n",
      "Episode 14, Speed Train: -2.352221341673696, T Train: 15936, Speed Val: -0.3342446382803175, T Val: 68767\n",
      "Episode 15, Speed Train: -1.0174343261509993, T Train: 53458, Speed Val: -3.283356823286587, T Val: 137064\n",
      "Episode 16, Speed Train: -3.80591069446347, T Train: 37560, Speed Val: -1.7719115237149068, T Val: 129761\n",
      "Episode 17, Speed Train: -0.16396711862460345, T Train: 50132, Speed Val: 0.7220241521286079, T Val: 21876\n",
      "Episode 18, Speed Train: 7.960836458259951, T Train: 19508, Speed Val: -0.010189162914671162, T Val: 128568\n",
      "Episode 19, Speed Train: 1.4112466687051612, T Train: 18512, Speed Val: 0.00402958147249663, T Val: 147658\n",
      "Episode 20, Speed Train: -1.6763096415846692, T Train: 19012, Speed Val: -12.46460934928098, T Val: 9819\n",
      "--- 3801.437279701233 seconds ---\n"
     ]
    }
   ],
   "source": [
    "start_time = time.time()\n",
    "all_train_rewards, all_T_train, all_val_rewards, all_T_val, saved = trainer.train(train_memory, **train_func_params)\n",
    "print(\"--- %s seconds ---\" % (time.time() - start_time))"
   ]
  },
  {
   "cell_type": "code",
   "execution_count": 16,
   "id": "db51a0f0",
   "metadata": {
    "execution": {
     "iopub.execute_input": "2024-12-10T11:28:43.368685Z",
     "iopub.status.busy": "2024-12-10T11:28:43.368369Z",
     "iopub.status.idle": "2024-12-10T11:28:43.381273Z",
     "shell.execute_reply": "2024-12-10T11:28:43.380555Z"
    },
    "papermill": {
     "duration": 0.023533,
     "end_time": "2024-12-10T11:28:43.382833",
     "exception": false,
     "start_time": "2024-12-10T11:28:43.359300",
     "status": "completed"
    },
    "scrolled": true,
    "tags": []
   },
   "outputs": [
    {
     "name": "stdout",
     "output_type": "stream",
     "text": [
      "Model is loaded from /kaggle/working/model_params/20-1024.pth\n"
     ]
    },
    {
     "data": {
      "text/plain": [
       "QNetwork(\n",
       "  (cnn): Sequential(\n",
       "    (0): Conv2d(5, 5, kernel_size=(3, 3), stride=(1, 1))\n",
       "    (1): ReLU()\n",
       "    (2): Conv2d(5, 5, kernel_size=(3, 3), stride=(1, 1))\n",
       "    (3): ReLU()\n",
       "  )\n",
       "  (network): Sequential(\n",
       "    (0): Linear(in_features=405, out_features=120, bias=True)\n",
       "    (1): ReLU()\n",
       "    (2): Linear(in_features=120, out_features=84, bias=True)\n",
       "    (3): ReLU()\n",
       "    (4): Linear(in_features=84, out_features=21, bias=True)\n",
       "  )\n",
       ")"
      ]
     },
     "execution_count": 16,
     "metadata": {},
     "output_type": "execute_result"
    }
   ],
   "source": [
    "if trainer.save_best_model:\n",
    "    trainer.load_model(filename=train_func_params['save_name'])\n",
    "trainer.policy_net"
   ]
  },
  {
   "cell_type": "code",
   "execution_count": 17,
   "id": "ea76ecdc",
   "metadata": {
    "execution": {
     "iopub.execute_input": "2024-12-10T11:28:43.400282Z",
     "iopub.status.busy": "2024-12-10T11:28:43.400018Z",
     "iopub.status.idle": "2024-12-10T11:29:58.364441Z",
     "shell.execute_reply": "2024-12-10T11:29:58.363704Z"
    },
    "papermill": {
     "duration": 74.984172,
     "end_time": "2024-12-10T11:29:58.375138",
     "exception": false,
     "start_time": "2024-12-10T11:28:43.390966",
     "status": "completed"
    },
    "tags": []
   },
   "outputs": [
    {
     "name": "stdout",
     "output_type": "stream",
     "text": [
      "Val Reward:  (0.06403249818518997, 122594)\n",
      "--- 74.9605233669281 seconds ---\n"
     ]
    }
   ],
   "source": [
    "start_time = time.time()\n",
    "val_reward = trainer._eval_policy_net(**_eval_policy_params)\n",
    "print('Val Reward: ', val_reward)\n",
    "print(\"--- %s seconds ---\" % (time.time() - start_time))"
   ]
  },
  {
   "cell_type": "markdown",
   "id": "6670022b",
   "metadata": {
    "papermill": {
     "duration": 0.008163,
     "end_time": "2024-12-10T11:29:58.391809",
     "exception": false,
     "start_time": "2024-12-10T11:29:58.383646",
     "status": "completed"
    },
    "tags": []
   },
   "source": [
    "## Visualize"
   ]
  },
  {
   "cell_type": "code",
   "execution_count": 18,
   "id": "7985c0ee",
   "metadata": {
    "execution": {
     "iopub.execute_input": "2024-12-10T11:29:58.409686Z",
     "iopub.status.busy": "2024-12-10T11:29:58.409389Z",
     "iopub.status.idle": "2024-12-10T11:29:58.418633Z",
     "shell.execute_reply": "2024-12-10T11:29:58.418000Z"
    },
    "papermill": {
     "duration": 0.020007,
     "end_time": "2024-12-10T11:29:58.420134",
     "exception": false,
     "start_time": "2024-12-10T11:29:58.400127",
     "status": "completed"
    },
    "tags": []
   },
   "outputs": [],
   "source": [
    "training_log = {\n",
    "    'Episode': list(range(1, len(all_train_rewards)+1)),\n",
    "    'Train Reward': all_train_rewards, \n",
    "    'Eval Reward': all_val_rewards, \n",
    "    'T Train': all_T_train, \n",
    "    'T Eval': all_T_val, \n",
    "    'Saved': saved\n",
    "}\n",
    "df = pd.DataFrame(training_log)"
   ]
  },
  {
   "cell_type": "code",
   "execution_count": 19,
   "id": "e582daac",
   "metadata": {
    "execution": {
     "iopub.execute_input": "2024-12-10T11:29:58.437552Z",
     "iopub.status.busy": "2024-12-10T11:29:58.437310Z",
     "iopub.status.idle": "2024-12-10T11:29:58.796248Z",
     "shell.execute_reply": "2024-12-10T11:29:58.795466Z"
    },
    "papermill": {
     "duration": 0.369822,
     "end_time": "2024-12-10T11:29:58.798242",
     "exception": false,
     "start_time": "2024-12-10T11:29:58.428420",
     "status": "completed"
    },
    "tags": []
   },
   "outputs": [
    {
     "data": {
      "image/png": "[encoded data removed]",
      "text/plain": [
       "<Figure size 600x600 with 1 Axes>"
      ]
     },
     "metadata": {},
     "output_type": "display_data"
    }
   ],
   "source": [
    "plt.figure(figsize=(6, 6))\n",
    "\n",
    "sns.lineplot(data=df, x='Episode', y='Train Reward', label='Train Reward', color='blue') # Biểu đồ đường Train Reward\n",
    "sns.lineplot(data=df, x='Episode', y='Eval Reward', label='Eval Reward', color='orange') # Biểu đồ đường Eval Reward\n",
    "\n",
    "dfy = 'Eval Reward' if train_func_params['detect_best_model_by'] == 'val' else 'Train Reward'\n",
    "saved_points = df[df['Saved'] == 1]\n",
    "sns.scatterplot(data=saved_points, x='Episode', y=dfy, color='red', label='Saved Points', s=100, zorder=5) # Đánh dấu các điểm Saved = 1\n",
    "\n",
    "# Thêm tiêu đề và chú thích\n",
    "plt.title('Training and Evaluation Rewards', fontsize=14)\n",
    "plt.xlabel('Episode', fontsize=12)\n",
    "plt.ylabel('Reward', fontsize=12)\n",
    "plt.legend()\n",
    "plt.grid(True)\n",
    "\n",
    "# Hiển thị biểu đồ\n",
    "plt.show()"
   ]
  },
  {
   "cell_type": "code",
   "execution_count": 20,
   "id": "213d6b6d",
   "metadata": {
    "execution": {
     "iopub.execute_input": "2024-12-10T11:29:58.818569Z",
     "iopub.status.busy": "2024-12-10T11:29:58.817978Z",
     "iopub.status.idle": "2024-12-10T11:29:59.119543Z",
     "shell.execute_reply": "2024-12-10T11:29:59.118681Z"
    },
    "papermill": {
     "duration": 0.313345,
     "end_time": "2024-12-10T11:29:59.121186",
     "exception": false,
     "start_time": "2024-12-10T11:29:58.807841",
     "status": "completed"
    },
    "tags": []
   },
   "outputs": [
    {
     "data": {
      "image/png": "[encoded data removed]",
      "text/plain": [
       "<Figure size 600x600 with 1 Axes>"
      ]
     },
     "metadata": {},
     "output_type": "display_data"
    }
   ],
   "source": [
    "plt.figure(figsize=(6, 6))\n",
    "\n",
    "sns.lineplot(data=df, x='Episode', y='T Train', label='T Train') # Biểu đồ đường T Train\n",
    "sns.lineplot(data=df, x='Episode', y='T Eval', label='T Eval') # Biểu đồ đường T Eval\n",
    "\n",
    "# Thêm tiêu đề và chú thích\n",
    "plt.title('Training and Evaluation Step', fontsize=14)\n",
    "plt.xlabel('Episode', fontsize=12)\n",
    "plt.ylabel('Step', fontsize=12)\n",
    "plt.legend()\n",
    "plt.grid(True)\n",
    "\n",
    "# Hiển thị biểu đồ\n",
    "plt.show()"
   ]
  },
  {
   "cell_type": "code",
   "execution_count": null,
   "id": "fa26eeab",
   "metadata": {
    "papermill": {
     "duration": 0.010184,
     "end_time": "2024-12-10T11:29:59.142336",
     "exception": false,
     "start_time": "2024-12-10T11:29:59.132152",
     "status": "completed"
    },
    "tags": []
   },
   "outputs": [],
   "source": []
  }
 ],
 "metadata": {
  "kaggle": {
   "accelerator": "gpu",
   "dataSources": [],
   "dockerImageVersionId": 30787,
   "isGpuEnabled": true,
   "isInternetEnabled": true,
   "language": "python",
   "sourceType": "notebook"
  },
  "kernelspec": {
   "display_name": "Python 3",
   "language": "python",
   "name": "python3"
  },
  "language_info": {
   "codemirror_mode": {
    "name": "ipython",
    "version": 3
   },
   "file_extension": ".py",
   "mimetype": "text/x-python",
   "name": "python",
   "nbconvert_exporter": "python",
   "pygments_lexer": "ipython3",
   "version": "3.10.14"
  },
  "papermill": {
   "default_parameters": {},
   "duration": 3938.142002,
   "end_time": "2024-12-10T11:30:01.880854",
   "environment_variables": {},
   "exception": null,
   "input_path": "__notebook__.ipynb",
   "output_path": "__notebook__.ipynb",
   "parameters": {},
   "start_time": "2024-12-10T10:24:23.738852",
   "version": "2.6.0"
  }
 },
 "nbformat": 4,
 "nbformat_minor": 5
}
